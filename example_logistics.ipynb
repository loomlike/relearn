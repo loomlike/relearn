{
 "cells": [
  {
   "cell_type": "markdown",
   "metadata": {},
   "source": [
    "# Logistics Optimization"
   ]
  },
  {
   "cell_type": "code",
   "execution_count": 1,
   "metadata": {
    "ExecuteTime": {
     "end_time": "2020-03-19T14:15:52.903142Z",
     "start_time": "2020-03-19T14:15:52.570898Z"
    }
   },
   "outputs": [],
   "source": [
    "%reload_ext autoreload\n",
    "%autoreload 2\n",
    "%reload_ext blackcellmagic\n",
    "%reload_ext tensorboard\n",
    "%matplotlib inline"
   ]
  },
  {
   "cell_type": "code",
   "execution_count": 2,
   "metadata": {
    "ExecuteTime": {
     "end_time": "2020-03-19T14:15:53.577830Z",
     "start_time": "2020-03-19T14:15:53.148987Z"
    }
   },
   "outputs": [],
   "source": [
    "import collections\n",
    "import json\n",
    "import math \n",
    "import os\n",
    "\n",
    "import matplotlib.pyplot as plt\n",
    "import numpy as np\n",
    "import pandas as pd\n",
    "import seaborn as sns\n",
    "sns.set()\n",
    "\n",
    "from relearn.env import SimpleLogistics, Warehouse"
   ]
  },
  {
   "cell_type": "markdown",
   "metadata": {},
   "source": [
    "## Logistics Provider Environment\n",
    "\n",
    "In this example, we simulate the item delivery of a logistics provider.\n",
    "We define the problem as **Dispatch items from arbitrary sellers to a logistics provider's distribution center (warehouse) where the logistics provider delivers the items to their destinations**.\n",
    "\n",
    "To make our problem simpler, we set following assumptions:\n",
    "- The distribution center operates independently so that we can define the single warehouse in our simulation.\n",
    "- Items are dispatched and stored into the warehouse every day with a fixed (transportation) cost.\n",
    "- Each item has one of two types of delivery: 2-day and 7-day delivery.\n",
    "- There is no penalty for the dispatch failure caused by full-inventory, but there is a penalty for the late delivery.\n",
    "- Items of the same destination are grouped and shipped together.\n",
    "\n",
    "> TODO: Currently, this environment doesn't consider the route-optimization.\n",
    "\n",
    "Here are our environment parameters:"
   ]
  },
  {
   "cell_type": "code",
   "execution_count": 3,
   "metadata": {
    "ExecuteTime": {
     "end_time": "2020-03-19T14:15:54.160031Z",
     "start_time": "2020-03-19T14:15:54.144596Z"
    }
   },
   "outputs": [],
   "source": [
    "NUM_STEPS = 100  # days\n",
    "\n",
    "# Average number of items to dispatch per step\n",
    "AVG_DEMAND = 20\n",
    "\n",
    "# Number of item delivery destinations\n",
    "NUM_DESTINATIONS = 10\n",
    "\n",
    "# Distribution center capacity\n",
    "WAREHOUSE_CAPACITY = 100\n",
    "\n",
    "# Max items that can be delivered to the same location at a time\n",
    "DELIVERY_CAPACITY = 5 \n",
    "\n",
    "SEED = 1234"
   ]
  },
  {
   "cell_type": "code",
   "execution_count": 4,
   "metadata": {
    "ExecuteTime": {
     "end_time": "2020-03-19T14:15:54.772985Z",
     "start_time": "2020-03-19T14:15:54.742058Z"
    },
    "scrolled": true
   },
   "outputs": [
    {
     "name": "stderr",
     "output_type": "stream",
     "text": [
      "/data/anaconda/envs/relearn/lib/python3.7/site-packages/gym/logger.py:30: UserWarning: \u001b[33mWARN: Box bound precision lowered by casting to float32\u001b[0m\n",
      "  warnings.warn(colorize('%s: %s'%('WARN', msg % args), 'yellow'))\n"
     ]
    },
    {
     "data": {
      "text/html": [
       "<div>\n",
       "<style scoped>\n",
       "    .dataframe tbody tr th:only-of-type {\n",
       "        vertical-align: middle;\n",
       "    }\n",
       "\n",
       "    .dataframe tbody tr th {\n",
       "        vertical-align: top;\n",
       "    }\n",
       "\n",
       "    .dataframe thead th {\n",
       "        text-align: right;\n",
       "    }\n",
       "</style>\n",
       "<table border=\"1\" class=\"dataframe\">\n",
       "  <thead>\n",
       "    <tr style=\"text-align: right;\">\n",
       "      <th></th>\n",
       "      <th>t</th>\n",
       "      <th>dest</th>\n",
       "      <th>due</th>\n",
       "      <th>price</th>\n",
       "      <th>penalty</th>\n",
       "      <th>dest_cost</th>\n",
       "      <th>dest_cap</th>\n",
       "      <th>t_left</th>\n",
       "    </tr>\n",
       "  </thead>\n",
       "  <tbody>\n",
       "    <tr>\n",
       "      <th>0</th>\n",
       "      <td>0.0</td>\n",
       "      <td>7.0</td>\n",
       "      <td>2.0</td>\n",
       "      <td>0.5</td>\n",
       "      <td>0.25</td>\n",
       "      <td>0.801872</td>\n",
       "      <td>4.0</td>\n",
       "      <td>2.0</td>\n",
       "    </tr>\n",
       "    <tr>\n",
       "      <th>1</th>\n",
       "      <td>0.0</td>\n",
       "      <td>0.0</td>\n",
       "      <td>2.0</td>\n",
       "      <td>0.5</td>\n",
       "      <td>0.25</td>\n",
       "      <td>0.191519</td>\n",
       "      <td>1.0</td>\n",
       "      <td>2.0</td>\n",
       "    </tr>\n",
       "    <tr>\n",
       "      <th>2</th>\n",
       "      <td>0.0</td>\n",
       "      <td>9.0</td>\n",
       "      <td>2.0</td>\n",
       "      <td>0.5</td>\n",
       "      <td>0.25</td>\n",
       "      <td>0.875933</td>\n",
       "      <td>2.0</td>\n",
       "      <td>2.0</td>\n",
       "    </tr>\n",
       "    <tr>\n",
       "      <th>3</th>\n",
       "      <td>0.0</td>\n",
       "      <td>1.0</td>\n",
       "      <td>2.0</td>\n",
       "      <td>0.5</td>\n",
       "      <td>0.25</td>\n",
       "      <td>0.622109</td>\n",
       "      <td>3.0</td>\n",
       "      <td>2.0</td>\n",
       "    </tr>\n",
       "    <tr>\n",
       "      <th>4</th>\n",
       "      <td>0.0</td>\n",
       "      <td>5.0</td>\n",
       "      <td>2.0</td>\n",
       "      <td>0.5</td>\n",
       "      <td>0.25</td>\n",
       "      <td>0.272593</td>\n",
       "      <td>4.0</td>\n",
       "      <td>2.0</td>\n",
       "    </tr>\n",
       "  </tbody>\n",
       "</table>\n",
       "</div>"
      ],
      "text/plain": [
       "     t  dest  due  price  penalty  dest_cost  dest_cap  t_left\n",
       "0  0.0   7.0  2.0    0.5     0.25   0.801872       4.0     2.0\n",
       "1  0.0   0.0  2.0    0.5     0.25   0.191519       1.0     2.0\n",
       "2  0.0   9.0  2.0    0.5     0.25   0.875933       2.0     2.0\n",
       "3  0.0   1.0  2.0    0.5     0.25   0.622109       3.0     2.0\n",
       "4  0.0   5.0  2.0    0.5     0.25   0.272593       4.0     2.0"
      ]
     },
     "execution_count": 4,
     "metadata": {},
     "output_type": "execute_result"
    }
   ],
   "source": [
    "env = SimpleLogistics(\n",
    "    T=NUM_STEPS,\n",
    "    capacity=WAREHOUSE_CAPACITY,\n",
    "    delivery_capacity=DELIVERY_CAPACITY,\n",
    "    num_destinations=NUM_DESTINATIONS,\n",
    "    demand_fn=AVG_DEMAND,\n",
    "    seed=SEED,\n",
    ")\n",
    "env.render('df').head(5)"
   ]
  },
  {
   "cell_type": "markdown",
   "metadata": {},
   "source": [
    "TODO describe about action and observation spaces"
   ]
  },
  {
   "cell_type": "code",
   "execution_count": 5,
   "metadata": {
    "ExecuteTime": {
     "end_time": "2020-03-19T14:15:55.766838Z",
     "start_time": "2020-03-19T14:15:55.749450Z"
    },
    "scrolled": false
   },
   "outputs": [
    {
     "data": {
      "text/plain": [
       "array([0.7010169 , 0.42397887, 0.06887916, 0.29941627, 0.51111895,\n",
       "       0.9699753 , 0.33492646, 0.59682655, 0.1706354 , 0.6090652 ,\n",
       "       0.2921837 , 0.6208515 , 0.15587291, 0.27452645, 0.6983987 ,\n",
       "       0.03905598, 0.76551425, 0.25476748, 0.2435319 , 0.39336738,\n",
       "       0.4914398 , 0.08224189, 0.5517627 , 0.9938737 , 0.6542053 ,\n",
       "       0.16404204, 0.54071355, 0.38385162, 0.5490099 , 0.81185865,\n",
       "       0.5662289 , 0.44125184, 0.09519856, 0.5280332 , 0.7172724 ,\n",
       "       0.23485021, 0.22407095, 0.33589312, 0.69608164, 0.8716047 ,\n",
       "       0.61123323, 0.5302952 , 0.6811365 , 0.3061946 , 0.11485554,\n",
       "       0.14317703, 0.97852117, 0.7210616 , 0.75023   , 0.06695175,\n",
       "       0.7385737 , 0.29777506, 0.8015222 , 0.10104952, 0.68461436,\n",
       "       0.3046397 , 0.3955275 , 0.75806034, 0.85264987, 0.49599075,\n",
       "       0.7924362 , 0.5820203 , 0.53238875, 0.0828184 , 0.939886  ,\n",
       "       0.29219237, 0.25921342, 0.61027694, 0.01586226, 0.2165404 ,\n",
       "       0.6234349 , 0.6434122 , 0.8770079 , 0.55229354, 0.73484385,\n",
       "       0.5574999 , 0.47350875, 0.3001645 , 0.5424715 , 0.62950706,\n",
       "       0.13725775, 0.9687023 , 0.81863916, 0.93877155, 0.81404895,\n",
       "       0.1226218 , 0.85026264, 0.8802477 , 0.67115057, 0.7135607 ,\n",
       "       0.5501578 , 0.1479173 , 0.6983323 , 0.5281936 , 0.37702623,\n",
       "       0.4905149 , 0.81757355, 0.41713876, 0.26644957, 0.7559976 ],\n",
       "      dtype=float32)"
      ]
     },
     "execution_count": 5,
     "metadata": {},
     "output_type": "execute_result"
    }
   ],
   "source": [
    "# Sample action\n",
    "env.action_space.sample()"
   ]
  },
  {
   "cell_type": "code",
   "execution_count": 6,
   "metadata": {
    "ExecuteTime": {
     "end_time": "2020-03-19T14:15:56.739540Z",
     "start_time": "2020-03-19T14:15:56.453853Z"
    }
   },
   "outputs": [
    {
     "data": {
      "text/plain": [
       "Text(0, 0.5, 'Demand')"
      ]
     },
     "execution_count": 6,
     "metadata": {},
     "output_type": "execute_result"
    },
    {
     "data": {
      "image/png": "[encoded data removed]",
      "text/plain": [
       "<Figure size 864x288 with 1 Axes>"
      ]
     },
     "metadata": {},
     "output_type": "display_data"
    }
   ],
   "source": [
    "# Visualize demand functions\n",
    "env.reset(SEED)\n",
    "plt.figure(figsize=(12,4))\n",
    "plt.margins(0.02)\n",
    "plt.stem([len(env.demand()) for _ in range(NUM_STEPS)], use_line_collection=True)\n",
    "plt.xlabel(\"Time step\")\n",
    "plt.ylabel(\"Demand\")"
   ]
  },
  {
   "cell_type": "code",
   "execution_count": 7,
   "metadata": {
    "ExecuteTime": {
     "end_time": "2020-03-19T14:15:57.068044Z",
     "start_time": "2020-03-19T14:15:57.052199Z"
    }
   },
   "outputs": [
    {
     "data": {
      "text/plain": [
       "array([0.19151945, 0.62210877, 0.43772774, 0.78535858, 0.77997581,\n",
       "       0.27259261, 0.27646426, 0.80187218, 0.95813935, 0.87593263])"
      ]
     },
     "execution_count": 7,
     "metadata": {},
     "output_type": "execute_result"
    }
   ],
   "source": [
    "# Delivery costs to each destination area\n",
    "env.warehouse.delivery_costs"
   ]
  },
  {
   "cell_type": "code",
   "execution_count": 8,
   "metadata": {
    "ExecuteTime": {
     "end_time": "2020-03-19T14:15:57.864973Z",
     "start_time": "2020-03-19T14:15:57.551856Z"
    }
   },
   "outputs": [
    {
     "data": {
      "text/plain": [
       "Text(0, 0.5, 'Profit')"
      ]
     },
     "execution_count": 8,
     "metadata": {},
     "output_type": "execute_result"
    },
    {
     "data": {
      "image/png": "[encoded data removed]",
      "text/plain": [
       "<Figure size 864x288 with 1 Axes>"
      ]
     },
     "metadata": {},
     "output_type": "display_data"
    }
   ],
   "source": [
    "# Random action\n",
    "env.reset(SEED)\n",
    "done = False\n",
    "rewards = []\n",
    "while not done:\n",
    "    _, reward, done, info = env.step(env.action_space.sample())\n",
    "    rewards.append(reward)\n",
    "\n",
    "plt.figure(figsize=(12,4))\n",
    "plt.margins(0.02)\n",
    "plt.plot(rewards)\n",
    "plt.xlabel(\"Time step\")\n",
    "plt.ylabel(\"Profit\")"
   ]
  },
  {
   "cell_type": "code",
   "execution_count": 9,
   "metadata": {
    "ExecuteTime": {
     "end_time": "2020-03-19T14:15:58.333987Z",
     "start_time": "2020-03-19T14:15:58.039001Z"
    }
   },
   "outputs": [
    {
     "data": {
      "text/plain": [
       "Text(0, 0.5, 'Profit')"
      ]
     },
     "execution_count": 9,
     "metadata": {},
     "output_type": "execute_result"
    },
    {
     "data": {
      "image/png": "[encoded data removed]",
      "text/plain": [
       "<Figure size 864x288 with 1 Axes>"
      ]
     },
     "metadata": {},
     "output_type": "display_data"
    }
   ],
   "source": [
    "# First come first serve\n",
    "env.reset(SEED)\n",
    "done = False\n",
    "rewards = []\n",
    "while not done:\n",
    "    delivery = [1.0] * len(env.warehouse.inventory)\n",
    "    _, reward, done, info = env.step(delivery)\n",
    "    rewards.append(reward)\n",
    "#     print(info['num_items_failed_to_deliver'])\n",
    "\n",
    "plt.figure(figsize=(12,4))\n",
    "plt.margins(0.02)\n",
    "plt.plot(rewards)\n",
    "plt.xlabel(\"Time step\")\n",
    "plt.ylabel(\"Profit\")"
   ]
  },
  {
   "cell_type": "code",
   "execution_count": 10,
   "metadata": {
    "ExecuteTime": {
     "end_time": "2020-03-19T14:15:58.528473Z",
     "start_time": "2020-03-19T14:15:58.513450Z"
    }
   },
   "outputs": [],
   "source": [
    "# TODO plot demands, delivery, penalty, etc. together\n"
   ]
  },
  {
   "cell_type": "markdown",
   "metadata": {},
   "source": [
    "## Simple Policy"
   ]
  },
  {
   "cell_type": "code",
   "execution_count": 11,
   "metadata": {
    "ExecuteTime": {
     "end_time": "2020-03-19T14:16:00.043014Z",
     "start_time": "2020-03-19T14:16:00.022189Z"
    }
   },
   "outputs": [],
   "source": [
    "class WaitAndDeliverPolicy:\n",
    "    def __init__(\n",
    "        self,\n",
    "        due,\n",
    "        capacity,\n",
    "        delivery_capacity,\n",
    "    ):\n",
    "        \"\"\"Wait to collect as many items as possible before delivery.\n",
    "        Deliver when there are due items or reached to delivery_capacity_limit\n",
    "        or capacity_limit.\n",
    "        \"\"\"\n",
    "        self.due = due\n",
    "        self.capacity = capacity\n",
    "        self.delivery_capacity = delivery_capacity\n",
    "\n",
    "    def action(self, state_df):\n",
    "        \"\"\"Check inventory, select items to deliver ():\n",
    "        \"\"\"\n",
    "        full_capacity = len(state_df)\n",
    "        \n",
    "        # remove empty\n",
    "        df = state_df.loc[state_df['price'] > 0.0]\n",
    "        \n",
    "        if len(df) > self.capacity:\n",
    "            pass  # Try to deliver all \n",
    "        else:\n",
    "            # deliver the items close to the due date and other items that have the same destinations.\n",
    "            due_items = df.loc[df['t_left'] < self.due]\n",
    "            areas = set(due_items['dest'])\n",
    "            \n",
    "            # also, include areas where the delivery capacity is full\n",
    "            areas.update(df.loc[df['dest_cap'] < self.delivery_capacity]['dest'])\n",
    "            \n",
    "            # select the items for those areas\n",
    "            df = df.loc[df['dest'].isin(areas)]\n",
    "        \n",
    "        ids = np.array(df.sort_values(by=['t_left','penalty'], ascending=(True,False)).index)\n",
    "        ps = np.linspace(1.0, 0.9, len(df))\n",
    "        \n",
    "        a = [0.0] * full_capacity\n",
    "        for i, p in zip(ids, ps):\n",
    "            a[i] = p\n",
    "        return a\n",
    "        "
   ]
  },
  {
   "cell_type": "code",
   "execution_count": 12,
   "metadata": {
    "ExecuteTime": {
     "end_time": "2020-03-19T14:16:00.513165Z",
     "start_time": "2020-03-19T14:16:00.497894Z"
    }
   },
   "outputs": [],
   "source": [
    "wd_policy = WaitAndDeliverPolicy(\n",
    "    due=1.0,\n",
    "    capacity=int(WAREHOUSE_CAPACITY * 0.8),\n",
    "    delivery_capacity=int(DELIVERY_CAPACITY * 0.8),\n",
    ")"
   ]
  },
  {
   "cell_type": "code",
   "execution_count": 13,
   "metadata": {
    "ExecuteTime": {
     "end_time": "2020-03-19T14:16:01.693435Z",
     "start_time": "2020-03-19T14:16:00.955483Z"
    },
    "scrolled": false
   },
   "outputs": [
    {
     "data": {
      "text/plain": [
       "Text(0, 0.5, 'Profit')"
      ]
     },
     "execution_count": 13,
     "metadata": {},
     "output_type": "execute_result"
    },
    {
     "data": {
      "image/png": "[encoded data removed]",
      "text/plain": [
       "<Figure size 864x288 with 1 Axes>"
      ]
     },
     "metadata": {},
     "output_type": "display_data"
    }
   ],
   "source": [
    "env.reset(SEED)\n",
    "done = False\n",
    "rewards = []\n",
    "while not done:\n",
    "    action = wd_policy.action(env.render('df'))\n",
    "    _, reward, done, info = env.step(action)\n",
    "    rewards.append(reward)\n",
    "#     print(info['num_items_failed_to_deliver'])\n",
    "\n",
    "plt.figure(figsize=(12,4))\n",
    "plt.margins(0.02)\n",
    "plt.plot(rewards)\n",
    "plt.xlabel(\"Time step\")\n",
    "plt.ylabel(\"Profit\")"
   ]
  },
  {
   "cell_type": "markdown",
   "metadata": {},
   "source": [
    "## Reinforcement Learning"
   ]
  },
  {
   "cell_type": "code",
   "execution_count": 14,
   "metadata": {
    "ExecuteTime": {
     "end_time": "2020-03-19T14:16:08.734731Z",
     "start_time": "2020-03-19T14:16:08.719960Z"
    }
   },
   "outputs": [],
   "source": [
    "NUM_TRAIN_STEPS = 100000\n",
    "TB_ROOT = \"logs\""
   ]
  },
  {
   "cell_type": "markdown",
   "metadata": {},
   "source": [
    "### DDPG using Stable-Baseline\n",
    "\n",
    "[stable-baseline](https://github.com/hill-a/stable-baselines)\n",
    "\n",
    "* LnMlpPolicy: MLP (2 layers of 64), with layer normalisation\n",
    "* NormalActionNoise: A Gaussian action noise for exploration"
   ]
  },
  {
   "cell_type": "code",
   "execution_count": 23,
   "metadata": {
    "ExecuteTime": {
     "end_time": "2020-03-19T14:54:52.438784Z",
     "start_time": "2020-03-19T14:54:52.400897Z"
    }
   },
   "outputs": [],
   "source": [
    "from stable_baselines import DDPG, PPO2\n",
    "\n",
    "from stable_baselines.common.noise import NormalActionNoise\n",
    "from stable_baselines.common.vec_env import DummyVecEnv, VecNormalize\n",
    "from stable_baselines.ddpg import AdaptiveParamNoiseSpec\n",
    "from stable_baselines.ddpg.policies import LnMlpPolicy\n"
   ]
  },
  {
   "cell_type": "code",
   "execution_count": 24,
   "metadata": {
    "ExecuteTime": {
     "end_time": "2020-03-19T15:16:36.002966Z",
     "start_time": "2020-03-19T14:54:53.412354Z"
    }
   },
   "outputs": [
    {
     "name": "stdout",
     "output_type": "stream",
     "text": [
      "--------------------------------------\n",
      "| param_noise_stddev      | 0.0373   |\n",
      "| reference_Q_mean        | 62.8     |\n",
      "| reference_Q_std         | 29.6     |\n",
      "| reference_action_mean   | 0.125    |\n",
      "| reference_action_std    | 0.858    |\n",
      "| reference_actor_Q_mean  | 88.1     |\n",
      "| reference_actor_Q_std   | 32.5     |\n",
      "| reference_perturbed_... | 0.854    |\n",
      "| rollout/Q_mean          | 33.7     |\n",
      "| rollout/actions_mean    | 0.0766   |\n",
      "| rollout/actions_std     | 0.767    |\n",
      "| rollout/episode_steps   | 100      |\n",
      "| rollout/episodes        | 100      |\n",
      "| rollout/return          | -137     |\n",
      "| rollout/return_history  | -137     |\n",
      "| total/duration          | 66.6     |\n",
      "| total/episodes          | 100      |\n",
      "| total/epochs            | 1        |\n",
      "| total/steps             | 9998     |\n",
      "| total/steps_per_second  | 150      |\n",
      "| train/loss_actor        | -89.2    |\n",
      "| train/loss_critic       | 79.8     |\n",
      "| train/param_noise_di... | 0.202    |\n",
      "--------------------------------------\n",
      "\n",
      "--------------------------------------\n",
      "| param_noise_stddev      | 0.0149   |\n",
      "| reference_Q_mean        | 170      |\n",
      "| reference_Q_std         | 58.1     |\n",
      "| reference_action_mean   | 0.154    |\n",
      "| reference_action_std    | 0.836    |\n",
      "| reference_actor_Q_mean  | 193      |\n",
      "| reference_actor_Q_std   | 59       |\n",
      "| reference_perturbed_... | 0.832    |\n",
      "| rollout/Q_mean          | 88.2     |\n",
      "| rollout/actions_mean    | 0.0837   |\n",
      "| rollout/actions_std     | 0.769    |\n",
      "| rollout/episode_steps   | 100      |\n",
      "| rollout/episodes        | 200      |\n",
      "| rollout/return          | -99.1    |\n",
      "| rollout/return_history  | -60.9    |\n",
      "| total/duration          | 134      |\n",
      "| total/episodes          | 200      |\n",
      "| total/epochs            | 1        |\n",
      "| total/steps             | 19998    |\n",
      "| total/steps_per_second  | 150      |\n",
      "| train/loss_actor        | -193     |\n",
      "| train/loss_critic       | 231      |\n",
      "| train/param_noise_di... | 0.097    |\n",
      "--------------------------------------\n",
      "\n",
      "--------------------------------------\n",
      "| param_noise_stddev      | 0.0123   |\n",
      "| reference_Q_mean        | 255      |\n",
      "| reference_Q_std         | 78.1     |\n",
      "| reference_action_mean   | 0.133    |\n",
      "| reference_action_std    | 0.854    |\n",
      "| reference_actor_Q_mean  | 273      |\n",
      "| reference_actor_Q_std   | 79.1     |\n",
      "| reference_perturbed_... | 0.857    |\n",
      "| rollout/Q_mean          | 140      |\n",
      "| rollout/actions_mean    | 0.0907   |\n",
      "| rollout/actions_std     | 0.771    |\n",
      "| rollout/episode_steps   | 100      |\n",
      "| rollout/episodes        | 300      |\n",
      "| rollout/return          | -119     |\n",
      "| rollout/return_history  | -160     |\n",
      "| total/duration          | 198      |\n",
      "| total/episodes          | 300      |\n",
      "| total/epochs            | 1        |\n",
      "| total/steps             | 29998    |\n",
      "| total/steps_per_second  | 152      |\n",
      "| train/loss_actor        | -282     |\n",
      "| train/loss_critic       | 353      |\n",
      "| train/param_noise_di... | 0.0973   |\n",
      "--------------------------------------\n",
      "\n",
      "--------------------------------------\n",
      "| param_noise_stddev      | 0.0152   |\n",
      "| reference_Q_mean        | 328      |\n",
      "| reference_Q_std         | 101      |\n",
      "| reference_action_mean   | 0.0827   |\n",
      "| reference_action_std    | 0.918    |\n",
      "| reference_actor_Q_mean  | 355      |\n",
      "| reference_actor_Q_std   | 105      |\n",
      "| reference_perturbed_... | 0.916    |\n",
      "| rollout/Q_mean          | 187      |\n",
      "| rollout/actions_mean    | 0.0865   |\n",
      "| rollout/actions_std     | 0.778    |\n",
      "| rollout/episode_steps   | 100      |\n",
      "| rollout/episodes        | 400      |\n",
      "| rollout/return          | -127     |\n",
      "| rollout/return_history  | -150     |\n",
      "| total/duration          | 262      |\n",
      "| total/episodes          | 400      |\n",
      "| total/epochs            | 1        |\n",
      "| total/steps             | 39998    |\n",
      "| total/steps_per_second  | 153      |\n",
      "| train/loss_actor        | -369     |\n",
      "| train/loss_critic       | 395      |\n",
      "| train/param_noise_di... | 0.0936   |\n",
      "--------------------------------------\n",
      "\n",
      "--------------------------------------\n",
      "| param_noise_stddev      | 0.0147   |\n",
      "| reference_Q_mean        | 380      |\n",
      "| reference_Q_std         | 145      |\n",
      "| reference_action_mean   | 0.192    |\n",
      "| reference_action_std    | 0.903    |\n",
      "| reference_actor_Q_mean  | 419      |\n",
      "| reference_actor_Q_std   | 133      |\n",
      "| reference_perturbed_... | 0.903    |\n",
      "| rollout/Q_mean          | 235      |\n",
      "| rollout/actions_mean    | 0.0873   |\n",
      "| rollout/actions_std     | 0.784    |\n",
      "| rollout/episode_steps   | 100      |\n",
      "| rollout/episodes        | 500      |\n",
      "| rollout/return          | -67.7    |\n",
      "| rollout/return_history  | 170      |\n",
      "| total/duration          | 325      |\n",
      "| total/episodes          | 500      |\n",
      "| total/epochs            | 1        |\n",
      "| total/steps             | 49998    |\n",
      "| total/steps_per_second  | 154      |\n",
      "| train/loss_actor        | -468     |\n",
      "| train/loss_critic       | 719      |\n",
      "| train/param_noise_di... | 0.108    |\n",
      "--------------------------------------\n",
      "\n",
      "--------------------------------------\n",
      "| param_noise_stddev      | 0.0159   |\n",
      "| reference_Q_mean        | 475      |\n",
      "| reference_Q_std         | 199      |\n",
      "| reference_action_mean   | 0.146    |\n",
      "| reference_action_std    | 0.924    |\n",
      "| reference_actor_Q_mean  | 522      |\n",
      "| reference_actor_Q_std   | 195      |\n",
      "| reference_perturbed_... | 0.925    |\n",
      "| rollout/Q_mean          | 284      |\n",
      "| rollout/actions_mean    | 0.0977   |\n",
      "| rollout/actions_std     | 0.789    |\n",
      "| rollout/episode_steps   | 100      |\n",
      "| rollout/episodes        | 600      |\n",
      "| rollout/return          | 84       |\n",
      "| rollout/return_history  | 842      |\n",
      "| total/duration          | 390      |\n",
      "| total/episodes          | 600      |\n",
      "| total/epochs            | 1        |\n",
      "| total/steps             | 59998    |\n",
      "| total/steps_per_second  | 154      |\n",
      "| train/loss_actor        | -586     |\n",
      "| train/loss_critic       | 1.3e+03  |\n",
      "| train/param_noise_di... | 0.0867   |\n",
      "--------------------------------------\n",
      "\n",
      "--------------------------------------\n",
      "| param_noise_stddev      | 0.0147   |\n",
      "| reference_Q_mean        | 559      |\n",
      "| reference_Q_std         | 266      |\n",
      "| reference_action_mean   | 0.125    |\n",
      "| reference_action_std    | 0.93     |\n",
      "| reference_actor_Q_mean  | 603      |\n",
      "| reference_actor_Q_std   | 266      |\n",
      "| reference_perturbed_... | 0.928    |\n",
      "| rollout/Q_mean          | 336      |\n",
      "| rollout/actions_mean    | 0.101    |\n",
      "| rollout/actions_std     | 0.792    |\n",
      "| rollout/episode_steps   | 100      |\n",
      "| rollout/episodes        | 700      |\n",
      "| rollout/return          | 128      |\n",
      "| rollout/return_history  | 391      |\n",
      "| total/duration          | 454      |\n",
      "| total/episodes          | 700      |\n",
      "| total/epochs            | 1        |\n",
      "| total/steps             | 69998    |\n",
      "| total/steps_per_second  | 154      |\n",
      "| train/loss_actor        | -710     |\n",
      "| train/loss_critic       | 1.2e+03  |\n",
      "| train/param_noise_di... | 0.114    |\n",
      "--------------------------------------\n",
      "\n",
      "--------------------------------------\n",
      "| param_noise_stddev      | 0.0152   |\n",
      "| reference_Q_mean        | 643      |\n",
      "| reference_Q_std         | 329      |\n",
      "| reference_action_mean   | 0.0379   |\n",
      "| reference_action_std    | 0.941    |\n",
      "| reference_actor_Q_mean  | 678      |\n",
      "| reference_actor_Q_std   | 339      |\n",
      "| reference_perturbed_... | 0.939    |\n",
      "| rollout/Q_mean          | 391      |\n",
      "| rollout/actions_mean    | 0.1      |\n",
      "| rollout/actions_std     | 0.796    |\n",
      "| rollout/episode_steps   | 100      |\n",
      "| rollout/episodes        | 800      |\n",
      "| rollout/return          | 107      |\n",
      "| rollout/return_history  | -35.1    |\n",
      "| total/duration          | 519      |\n",
      "| total/episodes          | 800      |\n",
      "| total/epochs            | 1        |\n",
      "| total/steps             | 79998    |\n",
      "| total/steps_per_second  | 154      |\n",
      "| train/loss_actor        | -831     |\n",
      "| train/loss_critic       | 2e+03    |\n",
      "| train/param_noise_di... | 0.1      |\n",
      "--------------------------------------\n",
      "\n",
      "--------------------------------------\n",
      "| param_noise_stddev      | 0.0144   |\n",
      "| reference_Q_mean        | 714      |\n",
      "| reference_Q_std         | 386      |\n",
      "| reference_action_mean   | 0.125    |\n",
      "| reference_action_std    | 0.935    |\n",
      "| reference_actor_Q_mean  | 759      |\n",
      "| reference_actor_Q_std   | 394      |\n",
      "| reference_perturbed_... | 0.931    |\n",
      "| rollout/Q_mean          | 447      |\n",
      "| rollout/actions_mean    | 0.106    |\n",
      "| rollout/actions_std     | 0.798    |\n",
      "| rollout/episode_steps   | 100      |\n",
      "| rollout/episodes        | 900      |\n",
      "| rollout/return          | 104      |\n",
      "| rollout/return_history  | 76.4     |\n",
      "| total/duration          | 584      |\n",
      "| total/episodes          | 900      |\n",
      "| total/epochs            | 1        |\n",
      "| total/steps             | 89998    |\n",
      "| total/steps_per_second  | 154      |\n",
      "| train/loss_actor        | -949     |\n",
      "| train/loss_critic       | 1.73e+03 |\n",
      "| train/param_noise_di... | 0.119    |\n",
      "--------------------------------------\n"
     ]
    },
    {
     "name": "stdout",
     "output_type": "stream",
     "text": [
      "\n",
      "---------------------------------------\n",
      "| param_noise_stddev      | 0.0165    |\n",
      "| reference_Q_mean        | 760       |\n",
      "| reference_Q_std         | 451       |\n",
      "| reference_action_mean   | 0.0897    |\n",
      "| reference_action_std    | 0.945     |\n",
      "| reference_actor_Q_mean  | 816       |\n",
      "| reference_actor_Q_std   | 453       |\n",
      "| reference_perturbed_... | 0.944     |\n",
      "| rollout/Q_mean          | 503       |\n",
      "| rollout/actions_mean    | 0.106     |\n",
      "| rollout/actions_std     | 0.801     |\n",
      "| rollout/episode_steps   | 100       |\n",
      "| rollout/episodes        | 1e+03     |\n",
      "| rollout/return          | 45.4      |\n",
      "| rollout/return_history  | -482      |\n",
      "| total/duration          | 648       |\n",
      "| total/episodes          | 1e+03     |\n",
      "| total/epochs            | 1         |\n",
      "| total/steps             | 99998     |\n",
      "| total/steps_per_second  | 154       |\n",
      "| train/loss_actor        | -1.07e+03 |\n",
      "| train/loss_critic       | 2.54e+03  |\n",
      "| train/param_noise_di... | 0.0901    |\n",
      "---------------------------------------\n",
      "\n",
      "--------------------------------------\n",
      "| param_noise_stddev      | 0.0156   |\n",
      "| reference_Q_mean        | 824      |\n",
      "| reference_Q_std         | 502      |\n",
      "| reference_action_mean   | 0.0703   |\n",
      "| reference_action_std    | 0.941    |\n",
      "| reference_actor_Q_mean  | 885      |\n",
      "| reference_actor_Q_std   | 503      |\n",
      "| reference_perturbed_... | 0.943    |\n",
      "| rollout/Q_mean          | 561      |\n",
      "| rollout/actions_mean    | 0.107    |\n",
      "| rollout/actions_std     | 0.803    |\n",
      "| rollout/episode_steps   | 100      |\n",
      "| rollout/episodes        | 1.1e+03  |\n",
      "| rollout/return          | -40.2    |\n",
      "| rollout/return_history  | -896     |\n",
      "| total/duration          | 713      |\n",
      "| total/episodes          | 1.1e+03  |\n",
      "| total/epochs            | 1        |\n",
      "| total/steps             | 109998   |\n",
      "| total/steps_per_second  | 154      |\n",
      "| train/loss_actor        | -1.2e+03 |\n",
      "| train/loss_critic       | 5.02e+03 |\n",
      "| train/param_noise_di... | 0.0641   |\n",
      "--------------------------------------\n",
      "\n",
      "---------------------------------------\n",
      "| param_noise_stddev      | 0.0127    |\n",
      "| reference_Q_mean        | 866       |\n",
      "| reference_Q_std         | 528       |\n",
      "| reference_action_mean   | 0.029     |\n",
      "| reference_action_std    | 0.935     |\n",
      "| reference_actor_Q_mean  | 919       |\n",
      "| reference_actor_Q_std   | 547       |\n",
      "| reference_perturbed_... | 0.934     |\n",
      "| rollout/Q_mean          | 618       |\n",
      "| rollout/actions_mean    | 0.101     |\n",
      "| rollout/actions_std     | 0.805     |\n",
      "| rollout/episode_steps   | 100       |\n",
      "| rollout/episodes        | 1.2e+03   |\n",
      "| rollout/return          | -187      |\n",
      "| rollout/return_history  | -1.8e+03  |\n",
      "| total/duration          | 778       |\n",
      "| total/episodes          | 1.2e+03   |\n",
      "| total/epochs            | 1         |\n",
      "| total/steps             | 119998    |\n",
      "| total/steps_per_second  | 154       |\n",
      "| train/loss_actor        | -1.29e+03 |\n",
      "| train/loss_critic       | 3.37e+03  |\n",
      "| train/param_noise_di... | 0.117     |\n",
      "---------------------------------------\n",
      "\n",
      "---------------------------------------\n",
      "| param_noise_stddev      | 0.0125    |\n",
      "| reference_Q_mean        | 899       |\n",
      "| reference_Q_std         | 563       |\n",
      "| reference_action_mean   | 0.0161    |\n",
      "| reference_action_std    | 0.925     |\n",
      "| reference_actor_Q_mean  | 940       |\n",
      "| reference_actor_Q_std   | 584       |\n",
      "| reference_perturbed_... | 0.927     |\n",
      "| rollout/Q_mean          | 673       |\n",
      "| rollout/actions_mean    | 0.0971    |\n",
      "| rollout/actions_std     | 0.807     |\n",
      "| rollout/episode_steps   | 100       |\n",
      "| rollout/episodes        | 1.3e+03   |\n",
      "| rollout/return          | -309      |\n",
      "| rollout/return_history  | -1.78e+03 |\n",
      "| total/duration          | 843       |\n",
      "| total/episodes          | 1.3e+03   |\n",
      "| total/epochs            | 1         |\n",
      "| total/steps             | 129998    |\n",
      "| total/steps_per_second  | 154       |\n",
      "| train/loss_actor        | -1.35e+03 |\n",
      "| train/loss_critic       | 2.06e+03  |\n",
      "| train/param_noise_di... | 0.0957    |\n",
      "---------------------------------------\n",
      "\n",
      "---------------------------------------\n",
      "| param_noise_stddev      | 0.0107    |\n",
      "| reference_Q_mean        | 909       |\n",
      "| reference_Q_std         | 596       |\n",
      "| reference_action_mean   | -0.0137   |\n",
      "| reference_action_std    | 0.929     |\n",
      "| reference_actor_Q_mean  | 950       |\n",
      "| reference_actor_Q_std   | 609       |\n",
      "| reference_perturbed_... | 0.93      |\n",
      "| rollout/Q_mean          | 725       |\n",
      "| rollout/actions_mean    | 0.0966    |\n",
      "| rollout/actions_std     | 0.808     |\n",
      "| rollout/episode_steps   | 100       |\n",
      "| rollout/episodes        | 1.4e+03   |\n",
      "| rollout/return          | -309      |\n",
      "| rollout/return_history  | -305      |\n",
      "| total/duration          | 908       |\n",
      "| total/episodes          | 1.4e+03   |\n",
      "| total/epochs            | 1         |\n",
      "| total/steps             | 139998    |\n",
      "| total/steps_per_second  | 154       |\n",
      "| train/loss_actor        | -1.41e+03 |\n",
      "| train/loss_critic       | 1.74e+03  |\n",
      "| train/param_noise_di... | 0.0988    |\n",
      "---------------------------------------\n",
      "\n",
      "---------------------------------------\n",
      "| param_noise_stddev      | 0.00965   |\n",
      "| reference_Q_mean        | 858       |\n",
      "| reference_Q_std         | 659       |\n",
      "| reference_action_mean   | -0.0778   |\n",
      "| reference_action_std    | 0.923     |\n",
      "| reference_actor_Q_mean  | 893       |\n",
      "| reference_actor_Q_std   | 678       |\n",
      "| reference_perturbed_... | 0.927     |\n",
      "| rollout/Q_mean          | 775       |\n",
      "| rollout/actions_mean    | 0.0926    |\n",
      "| rollout/actions_std     | 0.81      |\n",
      "| rollout/episode_steps   | 100       |\n",
      "| rollout/episodes        | 1.5e+03   |\n",
      "| rollout/return          | -422      |\n",
      "| rollout/return_history  | -2.01e+03 |\n",
      "| total/duration          | 973       |\n",
      "| total/episodes          | 1.5e+03   |\n",
      "| total/epochs            | 1         |\n",
      "| total/steps             | 149998    |\n",
      "| total/steps_per_second  | 154       |\n",
      "| train/loss_actor        | -1.53e+03 |\n",
      "| train/loss_critic       | 1.22e+03  |\n",
      "| train/param_noise_di... | 0.0971    |\n",
      "---------------------------------------\n",
      "\n",
      "---------------------------------------\n",
      "| param_noise_stddev      | 0.00839   |\n",
      "| reference_Q_mean        | 884       |\n",
      "| reference_Q_std         | 658       |\n",
      "| reference_action_mean   | -0.0405   |\n",
      "| reference_action_std    | 0.928     |\n",
      "| reference_actor_Q_mean  | 932       |\n",
      "| reference_actor_Q_std   | 651       |\n",
      "| reference_perturbed_... | 0.925     |\n",
      "| rollout/Q_mean          | 824       |\n",
      "| rollout/actions_mean    | 0.0921    |\n",
      "| rollout/actions_std     | 0.811     |\n",
      "| rollout/episode_steps   | 100       |\n",
      "| rollout/episodes        | 1.6e+03   |\n",
      "| rollout/return          | -384      |\n",
      "| rollout/return_history  | 197       |\n",
      "| total/duration          | 1.04e+03  |\n",
      "| total/episodes          | 1.6e+03   |\n",
      "| total/epochs            | 1         |\n",
      "| total/steps             | 159998    |\n",
      "| total/steps_per_second  | 154       |\n",
      "| train/loss_actor        | -1.56e+03 |\n",
      "| train/loss_critic       | 1.58e+03  |\n",
      "| train/param_noise_di... | 0.119     |\n",
      "---------------------------------------\n",
      "\n",
      "---------------------------------------\n",
      "| param_noise_stddev      | 0.00927   |\n",
      "| reference_Q_mean        | 912       |\n",
      "| reference_Q_std         | 718       |\n",
      "| reference_action_mean   | -0.048    |\n",
      "| reference_action_std    | 0.924     |\n",
      "| reference_actor_Q_mean  | 971       |\n",
      "| reference_actor_Q_std   | 738       |\n",
      "| reference_perturbed_... | 0.917     |\n",
      "| rollout/Q_mean          | 871       |\n",
      "| rollout/actions_mean    | 0.0906    |\n",
      "| rollout/actions_std     | 0.812     |\n",
      "| rollout/episode_steps   | 100       |\n",
      "| rollout/episodes        | 1.7e+03   |\n",
      "| rollout/return          | -452      |\n",
      "| rollout/return_history  | -1.55e+03 |\n",
      "| total/duration          | 1.1e+03   |\n",
      "| total/episodes          | 1.7e+03   |\n",
      "| total/epochs            | 1         |\n",
      "| total/steps             | 169998    |\n",
      "| total/steps_per_second  | 154       |\n",
      "| train/loss_actor        | -1.7e+03  |\n",
      "| train/loss_critic       | 1.76e+03  |\n",
      "| train/param_noise_di... | 0.0942    |\n",
      "---------------------------------------\n",
      "\n",
      "---------------------------------------\n",
      "| param_noise_stddev      | 0.00839   |\n",
      "| reference_Q_mean        | 939       |\n",
      "| reference_Q_std         | 843       |\n",
      "| reference_action_mean   | -0.231    |\n",
      "| reference_action_std    | 0.917     |\n",
      "| reference_actor_Q_mean  | 1.01e+03  |\n",
      "| reference_actor_Q_std   | 834       |\n",
      "| reference_perturbed_... | 0.921     |\n",
      "| rollout/Q_mean          | 920       |\n",
      "| rollout/actions_mean    | 0.0876    |\n",
      "| rollout/actions_std     | 0.813     |\n",
      "| rollout/episode_steps   | 100       |\n",
      "| rollout/episodes        | 1.8e+03   |\n",
      "| rollout/return          | -450      |\n",
      "| rollout/return_history  | -409      |\n",
      "| total/duration          | 1.17e+03  |\n",
      "| total/episodes          | 1.8e+03   |\n",
      "| total/epochs            | 1         |\n",
      "| total/steps             | 179998    |\n",
      "| total/steps_per_second  | 154       |\n",
      "| train/loss_actor        | -1.77e+03 |\n",
      "| train/loss_critic       | 2.07e+03  |\n",
      "| train/param_noise_di... | 0.11      |\n",
      "---------------------------------------\n"
     ]
    },
    {
     "name": "stdout",
     "output_type": "stream",
     "text": [
      "\n",
      "---------------------------------------\n",
      "| param_noise_stddev      | 0.00839   |\n",
      "| reference_Q_mean        | 923       |\n",
      "| reference_Q_std         | 971       |\n",
      "| reference_action_mean   | -0.158    |\n",
      "| reference_action_std    | 0.924     |\n",
      "| reference_actor_Q_mean  | 991       |\n",
      "| reference_actor_Q_std   | 972       |\n",
      "| reference_perturbed_... | 0.924     |\n",
      "| rollout/Q_mean          | 968       |\n",
      "| rollout/actions_mean    | 0.0827    |\n",
      "| rollout/actions_std     | 0.813     |\n",
      "| rollout/episode_steps   | 100       |\n",
      "| rollout/episodes        | 1.9e+03   |\n",
      "| rollout/return          | -509      |\n",
      "| rollout/return_history  | -1.58e+03 |\n",
      "| total/duration          | 1.23e+03  |\n",
      "| total/episodes          | 1.9e+03   |\n",
      "| total/epochs            | 1         |\n",
      "| total/steps             | 189998    |\n",
      "| total/steps_per_second  | 154       |\n",
      "| train/loss_actor        | -1.87e+03 |\n",
      "| train/loss_critic       | 2.13e+03  |\n",
      "| train/param_noise_di... | 0.0934    |\n",
      "---------------------------------------\n",
      "\n",
      "---------------------------------------\n",
      "| param_noise_stddev      | 0.00927   |\n",
      "| reference_Q_mean        | 919       |\n",
      "| reference_Q_std         | 1.13e+03  |\n",
      "| reference_action_mean   | -0.271    |\n",
      "| reference_action_std    | 0.903     |\n",
      "| reference_actor_Q_mean  | 1.01e+03  |\n",
      "| reference_actor_Q_std   | 1.12e+03  |\n",
      "| reference_perturbed_... | 0.911     |\n",
      "| rollout/Q_mean          | 1.02e+03  |\n",
      "| rollout/actions_mean    | 0.0764    |\n",
      "| rollout/actions_std     | 0.814     |\n",
      "| rollout/episode_steps   | 100       |\n",
      "| rollout/episodes        | 2e+03     |\n",
      "| rollout/return          | -565      |\n",
      "| rollout/return_history  | -1.64e+03 |\n",
      "| total/duration          | 1.3e+03   |\n",
      "| total/episodes          | 2e+03     |\n",
      "| total/epochs            | 1         |\n",
      "| total/steps             | 199998    |\n",
      "| total/steps_per_second  | 154       |\n",
      "| train/loss_actor        | -2.04e+03 |\n",
      "| train/loss_critic       | 8.5e+03   |\n",
      "| train/param_noise_di... | 0.0921    |\n",
      "---------------------------------------\n",
      "\n"
     ]
    },
    {
     "data": {
      "text/plain": [
       "<stable_baselines.ddpg.ddpg.DDPG at 0x7fd00aea6250>"
      ]
     },
     "execution_count": 24,
     "metadata": {},
     "output_type": "execute_result"
    }
   ],
   "source": [
    "# the noise objects for DDPG\n",
    "n_actions = env.action_space.shape[-1]\n",
    "action_noise = NormalActionNoise(\n",
    "    mean=np.zeros(n_actions),\n",
    "    sigma=float(0.5)*np.ones(n_actions)\n",
    ")\n",
    "param_noise = AdaptiveParamNoiseSpec()\n",
    "\n",
    "# Automatically normalize the input features\n",
    "norm_env = VecNormalize(\n",
    "    DummyVecEnv([lambda: env]),\n",
    "    norm_obs=True,\n",
    "    norm_reward=False,\n",
    "    clip_obs=10.\n",
    ")\n",
    "\n",
    "ddpg_logpath = os.path.join(TB_ROOT, \"ddpg\")\n",
    "\n",
    "ddpg = DDPG(\n",
    "    LnMlpPolicy,\n",
    "    norm_env,\n",
    "    verbose=1,\n",
    "    action_noise=action_noise,\n",
    "    param_noise=param_noise,\n",
    "    param_noise_adaption_interval=100,\n",
    "    tensorboard_log=ddpg_logpath,\n",
    ")\n",
    "ddpg.learn(total_timesteps=NUM_TRAIN_STEPS)\n",
    "\n",
    "# To save and load:\n",
    "# ddpg.save(\"path\")\n",
    "# ddpg = DDPG.load(\"path\")"
   ]
  },
  {
   "cell_type": "code",
   "execution_count": 40,
   "metadata": {
    "ExecuteTime": {
     "end_time": "2020-03-18T20:21:30.351645Z",
     "start_time": "2020-03-18T20:21:30.280165Z"
    }
   },
   "outputs": [
    {
     "data": {
      "text/plain": [
       "Reusing TensorBoard on port 6006 (pid 109652), started 3:10:15 ago. (Use '!kill 109652' to kill it.)"
      ]
     },
     "metadata": {},
     "output_type": "display_data"
    },
    {
     "data": {
      "text/html": [
       "\n",
       "        <iframe\n",
       "            width=\"100%\"\n",
       "            height=\"800\"\n",
       "            src=\"http://localhost:6006\"\n",
       "            frameborder=\"0\"\n",
       "            allowfullscreen\n",
       "        ></iframe>\n",
       "        "
      ],
      "text/plain": [
       "<IPython.lib.display.IFrame at 0x7f81abed4ad0>"
      ]
     },
     "metadata": {},
     "output_type": "display_data"
    }
   ],
   "source": [
    "%tensorboard --logdir {ddpg_logpath}"
   ]
  },
  {
   "cell_type": "code",
   "execution_count": 17,
   "metadata": {
    "ExecuteTime": {
     "end_time": "2020-03-19T14:37:20.893758Z",
     "start_time": "2020-03-19T14:37:20.471511Z"
    }
   },
   "outputs": [
    {
     "data": {
      "text/plain": [
       "Text(0, 0.5, 'Profit')"
      ]
     },
     "execution_count": 17,
     "metadata": {},
     "output_type": "execute_result"
    },
    {
     "data": {
      "image/png": "[encoded data removed]",
      "text/plain": [
       "<Figure size 864x288 with 1 Axes>"
      ]
     },
     "metadata": {},
     "output_type": "display_data"
    }
   ],
   "source": [
    "obs = env.reset(SEED)\n",
    "done = False\n",
    "rewards = []\n",
    "while not done:\n",
    "    action, _ = ddpg.predict(obs)\n",
    "    obs, reward, done, info = env.step(action)\n",
    "    rewards.append(reward)\n",
    "\n",
    "plt.figure(figsize=(12,4))\n",
    "plt.margins(0.02)\n",
    "plt.plot(rewards)\n",
    "plt.xlabel(\"Time step\")\n",
    "plt.ylabel(\"Profit\")"
   ]
  },
  {
   "cell_type": "code",
   "execution_count": 18,
   "metadata": {
    "ExecuteTime": {
     "end_time": "2020-03-19T14:37:33.608478Z",
     "start_time": "2020-03-19T14:37:33.568622Z"
    }
   },
   "outputs": [
    {
     "data": {
      "text/plain": [
       "array([9.9996233e-01, 8.3558464e-01, 8.4874666e-01, 9.8014492e-01,\n",
       "       5.6014413e-01, 6.3973778e-01, 1.0000000e+00, 4.4553846e-01,\n",
       "       9.9999994e-01, 8.8661659e-01, 9.4196290e-02, 3.3034712e-02,\n",
       "       1.0000000e+00, 9.2671907e-01, 5.5999881e-01, 9.8018491e-01,\n",
       "       7.1473849e-01, 9.6995705e-01, 1.6073450e-01, 9.6599424e-01,\n",
       "       3.1036681e-01, 9.9844420e-01, 9.7819972e-01, 8.8032043e-01,\n",
       "       6.4174950e-01, 7.1271634e-01, 9.1975909e-01, 9.9672639e-01,\n",
       "       4.4275138e-01, 5.3026330e-01, 1.6015014e-01, 9.7025192e-01,\n",
       "       8.0000579e-01, 1.7171171e-01, 2.2186244e-01, 6.2269443e-01,\n",
       "       9.9939048e-01, 6.7342257e-01, 8.1915504e-01, 1.0571641e-01,\n",
       "       6.7072654e-01, 9.5350671e-01, 3.6901504e-02, 8.1754786e-01,\n",
       "       1.6521841e-01, 5.0008607e-01, 9.4276071e-03, 2.5890648e-02,\n",
       "       7.3304808e-01, 1.3526848e-01, 4.4093609e-02, 3.6579466e-01,\n",
       "       8.5781586e-01, 9.7641027e-01, 9.7876698e-01, 3.0641586e-02,\n",
       "       9.9538994e-01, 5.8931321e-02, 8.6079115e-01, 2.6490089e-01,\n",
       "       4.4517580e-01, 1.0000000e+00, 9.7861838e-01, 1.6418409e-01,\n",
       "       4.5634404e-01, 7.6842070e-02, 9.2614865e-01, 1.4362833e-01,\n",
       "       2.0306233e-01, 8.5837096e-01, 3.1570703e-02, 6.0383099e-01,\n",
       "       9.0450716e-01, 7.7605337e-02, 7.5373667e-01, 3.0835837e-02,\n",
       "       6.1744171e-01, 7.7324283e-01, 2.0821813e-01, 8.6538780e-01,\n",
       "       9.2793536e-01, 9.0373874e-01, 2.9003164e-01, 9.4865108e-01,\n",
       "       9.0876865e-01, 3.5258532e-03, 8.2185137e-01, 6.1714840e-01,\n",
       "       2.0310876e-01, 4.2952317e-01, 7.4637735e-01, 8.8428128e-01,\n",
       "       6.7093921e-01, 4.8798969e-01, 9.7951055e-02, 2.8267503e-04,\n",
       "       2.9931912e-01, 7.9015160e-01, 1.2437278e-01, 2.0956188e-02],\n",
       "      dtype=float32)"
      ]
     },
     "execution_count": 18,
     "metadata": {},
     "output_type": "execute_result"
    }
   ],
   "source": [
    "action, _ = ddpg.predict(obs)\n",
    "action"
   ]
  },
  {
   "cell_type": "code",
   "execution_count": 19,
   "metadata": {
    "ExecuteTime": {
     "end_time": "2020-03-19T14:40:16.517191Z",
     "start_time": "2020-03-19T14:40:16.472036Z"
    }
   },
   "outputs": [
    {
     "data": {
      "text/plain": [
       "array([[ 9.80000000e+01,  1.00000000e+00,  7.00000000e+00,\n",
       "         1.42857143e-01,  2.04081633e-02,  6.22108771e-01,\n",
       "         0.00000000e+00,  5.00000000e+00],\n",
       "       [ 9.90000000e+01,  2.00000000e+00,  2.00000000e+00,\n",
       "         5.00000000e-01,  2.50000000e-01,  4.37727739e-01,\n",
       "         3.00000000e+00,  1.00000000e+00],\n",
       "       [ 9.90000000e+01,  4.00000000e+00,  7.00000000e+00,\n",
       "         1.42857143e-01,  2.04081633e-02,  7.79975808e-01,\n",
       "         2.00000000e+00,  6.00000000e+00],\n",
       "       [ 9.90000000e+01,  7.00000000e+00,  2.00000000e+00,\n",
       "         5.00000000e-01,  2.50000000e-01,  8.01872178e-01,\n",
       "         3.00000000e+00,  1.00000000e+00],\n",
       "       [ 9.90000000e+01,  9.00000000e+00,  7.00000000e+00,\n",
       "         1.42857143e-01,  2.04081633e-02,  8.75932635e-01,\n",
       "        -1.00000000e+00,  6.00000000e+00],\n",
       "       [ 1.00000000e+02,  4.00000000e+00,  7.00000000e+00,\n",
       "         1.42857143e-01,  2.04081633e-02,  7.79975808e-01,\n",
       "         2.00000000e+00,  7.00000000e+00],\n",
       "       [ 1.00000000e+02,  9.00000000e+00,  2.00000000e+00,\n",
       "         5.00000000e-01,  2.50000000e-01,  8.75932635e-01,\n",
       "        -1.00000000e+00,  2.00000000e+00],\n",
       "       [ 1.00000000e+02,  9.00000000e+00,  2.00000000e+00,\n",
       "         5.00000000e-01,  2.50000000e-01,  8.75932635e-01,\n",
       "        -1.00000000e+00,  2.00000000e+00],\n",
       "       [ 1.00000000e+02,  1.00000000e+00,  2.00000000e+00,\n",
       "         5.00000000e-01,  2.50000000e-01,  6.22108771e-01,\n",
       "         0.00000000e+00,  2.00000000e+00],\n",
       "       [ 1.00000000e+02,  9.00000000e+00,  2.00000000e+00,\n",
       "         5.00000000e-01,  2.50000000e-01,  8.75932635e-01,\n",
       "        -1.00000000e+00,  2.00000000e+00],\n",
       "       [ 1.00000000e+02,  7.00000000e+00,  2.00000000e+00,\n",
       "         5.00000000e-01,  2.50000000e-01,  8.01872178e-01,\n",
       "         3.00000000e+00,  2.00000000e+00],\n",
       "       [ 1.00000000e+02,  8.00000000e+00,  2.00000000e+00,\n",
       "         5.00000000e-01,  2.50000000e-01,  9.58139354e-01,\n",
       "         2.00000000e+00,  2.00000000e+00],\n",
       "       [ 1.00000000e+02,  3.00000000e+00,  7.00000000e+00,\n",
       "         1.42857143e-01,  2.04081633e-02,  7.85358584e-01,\n",
       "         4.00000000e+00,  7.00000000e+00],\n",
       "       [ 1.00000000e+02,  6.00000000e+00,  7.00000000e+00,\n",
       "         1.42857143e-01,  2.04081633e-02,  2.76464255e-01,\n",
       "         4.00000000e+00,  7.00000000e+00],\n",
       "       [ 1.00000000e+02,  1.00000000e+00,  2.00000000e+00,\n",
       "         5.00000000e-01,  2.50000000e-01,  6.22108771e-01,\n",
       "         0.00000000e+00,  2.00000000e+00],\n",
       "       [ 1.00000000e+02,  8.00000000e+00,  2.00000000e+00,\n",
       "         5.00000000e-01,  2.50000000e-01,  9.58139354e-01,\n",
       "         2.00000000e+00,  2.00000000e+00],\n",
       "       [ 1.00000000e+02,  4.00000000e+00,  2.00000000e+00,\n",
       "         5.00000000e-01,  2.50000000e-01,  7.79975808e-01,\n",
       "         2.00000000e+00,  2.00000000e+00],\n",
       "       [ 1.00000000e+02,  1.00000000e+00,  7.00000000e+00,\n",
       "         1.42857143e-01,  2.04081633e-02,  6.22108771e-01,\n",
       "         0.00000000e+00,  7.00000000e+00],\n",
       "       [ 1.00000000e+02,  9.00000000e+00,  7.00000000e+00,\n",
       "         1.42857143e-01,  2.04081633e-02,  8.75932635e-01,\n",
       "        -1.00000000e+00,  7.00000000e+00],\n",
       "       [ 1.00000000e+02,  1.00000000e+00,  7.00000000e+00,\n",
       "         1.42857143e-01,  2.04081633e-02,  6.22108771e-01,\n",
       "         0.00000000e+00,  7.00000000e+00],\n",
       "       [ 1.00000000e+02,  9.00000000e+00,  2.00000000e+00,\n",
       "         5.00000000e-01,  2.50000000e-01,  8.75932635e-01,\n",
       "        -1.00000000e+00,  2.00000000e+00],\n",
       "       [ 1.00000000e+02,  2.00000000e+00,  2.00000000e+00,\n",
       "         5.00000000e-01,  2.50000000e-01,  4.37727739e-01,\n",
       "         3.00000000e+00,  2.00000000e+00],\n",
       "       [ 1.00000000e+02,  8.00000000e+00,  7.00000000e+00,\n",
       "         1.42857143e-01,  2.04081633e-02,  9.58139354e-01,\n",
       "         2.00000000e+00,  7.00000000e+00],\n",
       "       [ 0.00000000e+00,  0.00000000e+00,  0.00000000e+00,\n",
       "         0.00000000e+00,  0.00000000e+00,  0.00000000e+00,\n",
       "         0.00000000e+00,  0.00000000e+00],\n",
       "       [ 0.00000000e+00,  0.00000000e+00,  0.00000000e+00,\n",
       "         0.00000000e+00,  0.00000000e+00,  0.00000000e+00,\n",
       "         0.00000000e+00,  0.00000000e+00],\n",
       "       [ 0.00000000e+00,  0.00000000e+00,  0.00000000e+00,\n",
       "         0.00000000e+00,  0.00000000e+00,  0.00000000e+00,\n",
       "         0.00000000e+00,  0.00000000e+00],\n",
       "       [ 0.00000000e+00,  0.00000000e+00,  0.00000000e+00,\n",
       "         0.00000000e+00,  0.00000000e+00,  0.00000000e+00,\n",
       "         0.00000000e+00,  0.00000000e+00],\n",
       "       [ 0.00000000e+00,  0.00000000e+00,  0.00000000e+00,\n",
       "         0.00000000e+00,  0.00000000e+00,  0.00000000e+00,\n",
       "         0.00000000e+00,  0.00000000e+00],\n",
       "       [ 0.00000000e+00,  0.00000000e+00,  0.00000000e+00,\n",
       "         0.00000000e+00,  0.00000000e+00,  0.00000000e+00,\n",
       "         0.00000000e+00,  0.00000000e+00],\n",
       "       [ 0.00000000e+00,  0.00000000e+00,  0.00000000e+00,\n",
       "         0.00000000e+00,  0.00000000e+00,  0.00000000e+00,\n",
       "         0.00000000e+00,  0.00000000e+00],\n",
       "       [ 0.00000000e+00,  0.00000000e+00,  0.00000000e+00,\n",
       "         0.00000000e+00,  0.00000000e+00,  0.00000000e+00,\n",
       "         0.00000000e+00,  0.00000000e+00],\n",
       "       [ 0.00000000e+00,  0.00000000e+00,  0.00000000e+00,\n",
       "         0.00000000e+00,  0.00000000e+00,  0.00000000e+00,\n",
       "         0.00000000e+00,  0.00000000e+00],\n",
       "       [ 0.00000000e+00,  0.00000000e+00,  0.00000000e+00,\n",
       "         0.00000000e+00,  0.00000000e+00,  0.00000000e+00,\n",
       "         0.00000000e+00,  0.00000000e+00],\n",
       "       [ 0.00000000e+00,  0.00000000e+00,  0.00000000e+00,\n",
       "         0.00000000e+00,  0.00000000e+00,  0.00000000e+00,\n",
       "         0.00000000e+00,  0.00000000e+00],\n",
       "       [ 0.00000000e+00,  0.00000000e+00,  0.00000000e+00,\n",
       "         0.00000000e+00,  0.00000000e+00,  0.00000000e+00,\n",
       "         0.00000000e+00,  0.00000000e+00],\n",
       "       [ 0.00000000e+00,  0.00000000e+00,  0.00000000e+00,\n",
       "         0.00000000e+00,  0.00000000e+00,  0.00000000e+00,\n",
       "         0.00000000e+00,  0.00000000e+00],\n",
       "       [ 0.00000000e+00,  0.00000000e+00,  0.00000000e+00,\n",
       "         0.00000000e+00,  0.00000000e+00,  0.00000000e+00,\n",
       "         0.00000000e+00,  0.00000000e+00],\n",
       "       [ 0.00000000e+00,  0.00000000e+00,  0.00000000e+00,\n",
       "         0.00000000e+00,  0.00000000e+00,  0.00000000e+00,\n",
       "         0.00000000e+00,  0.00000000e+00],\n",
       "       [ 0.00000000e+00,  0.00000000e+00,  0.00000000e+00,\n",
       "         0.00000000e+00,  0.00000000e+00,  0.00000000e+00,\n",
       "         0.00000000e+00,  0.00000000e+00],\n",
       "       [ 0.00000000e+00,  0.00000000e+00,  0.00000000e+00,\n",
       "         0.00000000e+00,  0.00000000e+00,  0.00000000e+00,\n",
       "         0.00000000e+00,  0.00000000e+00],\n",
       "       [ 0.00000000e+00,  0.00000000e+00,  0.00000000e+00,\n",
       "         0.00000000e+00,  0.00000000e+00,  0.00000000e+00,\n",
       "         0.00000000e+00,  0.00000000e+00],\n",
       "       [ 0.00000000e+00,  0.00000000e+00,  0.00000000e+00,\n",
       "         0.00000000e+00,  0.00000000e+00,  0.00000000e+00,\n",
       "         0.00000000e+00,  0.00000000e+00],\n",
       "       [ 0.00000000e+00,  0.00000000e+00,  0.00000000e+00,\n",
       "         0.00000000e+00,  0.00000000e+00,  0.00000000e+00,\n",
       "         0.00000000e+00,  0.00000000e+00],\n",
       "       [ 0.00000000e+00,  0.00000000e+00,  0.00000000e+00,\n",
       "         0.00000000e+00,  0.00000000e+00,  0.00000000e+00,\n",
       "         0.00000000e+00,  0.00000000e+00],\n",
       "       [ 0.00000000e+00,  0.00000000e+00,  0.00000000e+00,\n",
       "         0.00000000e+00,  0.00000000e+00,  0.00000000e+00,\n",
       "         0.00000000e+00,  0.00000000e+00],\n",
       "       [ 0.00000000e+00,  0.00000000e+00,  0.00000000e+00,\n",
       "         0.00000000e+00,  0.00000000e+00,  0.00000000e+00,\n",
       "         0.00000000e+00,  0.00000000e+00],\n",
       "       [ 0.00000000e+00,  0.00000000e+00,  0.00000000e+00,\n",
       "         0.00000000e+00,  0.00000000e+00,  0.00000000e+00,\n",
       "         0.00000000e+00,  0.00000000e+00],\n",
       "       [ 0.00000000e+00,  0.00000000e+00,  0.00000000e+00,\n",
       "         0.00000000e+00,  0.00000000e+00,  0.00000000e+00,\n",
       "         0.00000000e+00,  0.00000000e+00],\n",
       "       [ 0.00000000e+00,  0.00000000e+00,  0.00000000e+00,\n",
       "         0.00000000e+00,  0.00000000e+00,  0.00000000e+00,\n",
       "         0.00000000e+00,  0.00000000e+00],\n",
       "       [ 0.00000000e+00,  0.00000000e+00,  0.00000000e+00,\n",
       "         0.00000000e+00,  0.00000000e+00,  0.00000000e+00,\n",
       "         0.00000000e+00,  0.00000000e+00],\n",
       "       [ 0.00000000e+00,  0.00000000e+00,  0.00000000e+00,\n",
       "         0.00000000e+00,  0.00000000e+00,  0.00000000e+00,\n",
       "         0.00000000e+00,  0.00000000e+00],\n",
       "       [ 0.00000000e+00,  0.00000000e+00,  0.00000000e+00,\n",
       "         0.00000000e+00,  0.00000000e+00,  0.00000000e+00,\n",
       "         0.00000000e+00,  0.00000000e+00],\n",
       "       [ 0.00000000e+00,  0.00000000e+00,  0.00000000e+00,\n",
       "         0.00000000e+00,  0.00000000e+00,  0.00000000e+00,\n",
       "         0.00000000e+00,  0.00000000e+00],\n",
       "       [ 0.00000000e+00,  0.00000000e+00,  0.00000000e+00,\n",
       "         0.00000000e+00,  0.00000000e+00,  0.00000000e+00,\n",
       "         0.00000000e+00,  0.00000000e+00],\n",
       "       [ 0.00000000e+00,  0.00000000e+00,  0.00000000e+00,\n",
       "         0.00000000e+00,  0.00000000e+00,  0.00000000e+00,\n",
       "         0.00000000e+00,  0.00000000e+00],\n",
       "       [ 0.00000000e+00,  0.00000000e+00,  0.00000000e+00,\n",
       "         0.00000000e+00,  0.00000000e+00,  0.00000000e+00,\n",
       "         0.00000000e+00,  0.00000000e+00],\n",
       "       [ 0.00000000e+00,  0.00000000e+00,  0.00000000e+00,\n",
       "         0.00000000e+00,  0.00000000e+00,  0.00000000e+00,\n",
       "         0.00000000e+00,  0.00000000e+00],\n",
       "       [ 0.00000000e+00,  0.00000000e+00,  0.00000000e+00,\n",
       "         0.00000000e+00,  0.00000000e+00,  0.00000000e+00,\n",
       "         0.00000000e+00,  0.00000000e+00],\n",
       "       [ 0.00000000e+00,  0.00000000e+00,  0.00000000e+00,\n",
       "         0.00000000e+00,  0.00000000e+00,  0.00000000e+00,\n",
       "         0.00000000e+00,  0.00000000e+00],\n",
       "       [ 0.00000000e+00,  0.00000000e+00,  0.00000000e+00,\n",
       "         0.00000000e+00,  0.00000000e+00,  0.00000000e+00,\n",
       "         0.00000000e+00,  0.00000000e+00],\n",
       "       [ 0.00000000e+00,  0.00000000e+00,  0.00000000e+00,\n",
       "         0.00000000e+00,  0.00000000e+00,  0.00000000e+00,\n",
       "         0.00000000e+00,  0.00000000e+00],\n",
       "       [ 0.00000000e+00,  0.00000000e+00,  0.00000000e+00,\n",
       "         0.00000000e+00,  0.00000000e+00,  0.00000000e+00,\n",
       "         0.00000000e+00,  0.00000000e+00],\n",
       "       [ 0.00000000e+00,  0.00000000e+00,  0.00000000e+00,\n",
       "         0.00000000e+00,  0.00000000e+00,  0.00000000e+00,\n",
       "         0.00000000e+00,  0.00000000e+00],\n",
       "       [ 0.00000000e+00,  0.00000000e+00,  0.00000000e+00,\n",
       "         0.00000000e+00,  0.00000000e+00,  0.00000000e+00,\n",
       "         0.00000000e+00,  0.00000000e+00],\n",
       "       [ 0.00000000e+00,  0.00000000e+00,  0.00000000e+00,\n",
       "         0.00000000e+00,  0.00000000e+00,  0.00000000e+00,\n",
       "         0.00000000e+00,  0.00000000e+00],\n",
       "       [ 0.00000000e+00,  0.00000000e+00,  0.00000000e+00,\n",
       "         0.00000000e+00,  0.00000000e+00,  0.00000000e+00,\n",
       "         0.00000000e+00,  0.00000000e+00],\n",
       "       [ 0.00000000e+00,  0.00000000e+00,  0.00000000e+00,\n",
       "         0.00000000e+00,  0.00000000e+00,  0.00000000e+00,\n",
       "         0.00000000e+00,  0.00000000e+00],\n",
       "       [ 0.00000000e+00,  0.00000000e+00,  0.00000000e+00,\n",
       "         0.00000000e+00,  0.00000000e+00,  0.00000000e+00,\n",
       "         0.00000000e+00,  0.00000000e+00],\n",
       "       [ 0.00000000e+00,  0.00000000e+00,  0.00000000e+00,\n",
       "         0.00000000e+00,  0.00000000e+00,  0.00000000e+00,\n",
       "         0.00000000e+00,  0.00000000e+00],\n",
       "       [ 0.00000000e+00,  0.00000000e+00,  0.00000000e+00,\n",
       "         0.00000000e+00,  0.00000000e+00,  0.00000000e+00,\n",
       "         0.00000000e+00,  0.00000000e+00],\n",
       "       [ 0.00000000e+00,  0.00000000e+00,  0.00000000e+00,\n",
       "         0.00000000e+00,  0.00000000e+00,  0.00000000e+00,\n",
       "         0.00000000e+00,  0.00000000e+00],\n",
       "       [ 0.00000000e+00,  0.00000000e+00,  0.00000000e+00,\n",
       "         0.00000000e+00,  0.00000000e+00,  0.00000000e+00,\n",
       "         0.00000000e+00,  0.00000000e+00],\n",
       "       [ 0.00000000e+00,  0.00000000e+00,  0.00000000e+00,\n",
       "         0.00000000e+00,  0.00000000e+00,  0.00000000e+00,\n",
       "         0.00000000e+00,  0.00000000e+00],\n",
       "       [ 0.00000000e+00,  0.00000000e+00,  0.00000000e+00,\n",
       "         0.00000000e+00,  0.00000000e+00,  0.00000000e+00,\n",
       "         0.00000000e+00,  0.00000000e+00],\n",
       "       [ 0.00000000e+00,  0.00000000e+00,  0.00000000e+00,\n",
       "         0.00000000e+00,  0.00000000e+00,  0.00000000e+00,\n",
       "         0.00000000e+00,  0.00000000e+00],\n",
       "       [ 0.00000000e+00,  0.00000000e+00,  0.00000000e+00,\n",
       "         0.00000000e+00,  0.00000000e+00,  0.00000000e+00,\n",
       "         0.00000000e+00,  0.00000000e+00],\n",
       "       [ 0.00000000e+00,  0.00000000e+00,  0.00000000e+00,\n",
       "         0.00000000e+00,  0.00000000e+00,  0.00000000e+00,\n",
       "         0.00000000e+00,  0.00000000e+00],\n",
       "       [ 0.00000000e+00,  0.00000000e+00,  0.00000000e+00,\n",
       "         0.00000000e+00,  0.00000000e+00,  0.00000000e+00,\n",
       "         0.00000000e+00,  0.00000000e+00],\n",
       "       [ 0.00000000e+00,  0.00000000e+00,  0.00000000e+00,\n",
       "         0.00000000e+00,  0.00000000e+00,  0.00000000e+00,\n",
       "         0.00000000e+00,  0.00000000e+00],\n",
       "       [ 0.00000000e+00,  0.00000000e+00,  0.00000000e+00,\n",
       "         0.00000000e+00,  0.00000000e+00,  0.00000000e+00,\n",
       "         0.00000000e+00,  0.00000000e+00],\n",
       "       [ 0.00000000e+00,  0.00000000e+00,  0.00000000e+00,\n",
       "         0.00000000e+00,  0.00000000e+00,  0.00000000e+00,\n",
       "         0.00000000e+00,  0.00000000e+00],\n",
       "       [ 0.00000000e+00,  0.00000000e+00,  0.00000000e+00,\n",
       "         0.00000000e+00,  0.00000000e+00,  0.00000000e+00,\n",
       "         0.00000000e+00,  0.00000000e+00],\n",
       "       [ 0.00000000e+00,  0.00000000e+00,  0.00000000e+00,\n",
       "         0.00000000e+00,  0.00000000e+00,  0.00000000e+00,\n",
       "         0.00000000e+00,  0.00000000e+00],\n",
       "       [ 0.00000000e+00,  0.00000000e+00,  0.00000000e+00,\n",
       "         0.00000000e+00,  0.00000000e+00,  0.00000000e+00,\n",
       "         0.00000000e+00,  0.00000000e+00],\n",
       "       [ 0.00000000e+00,  0.00000000e+00,  0.00000000e+00,\n",
       "         0.00000000e+00,  0.00000000e+00,  0.00000000e+00,\n",
       "         0.00000000e+00,  0.00000000e+00],\n",
       "       [ 0.00000000e+00,  0.00000000e+00,  0.00000000e+00,\n",
       "         0.00000000e+00,  0.00000000e+00,  0.00000000e+00,\n",
       "         0.00000000e+00,  0.00000000e+00],\n",
       "       [ 0.00000000e+00,  0.00000000e+00,  0.00000000e+00,\n",
       "         0.00000000e+00,  0.00000000e+00,  0.00000000e+00,\n",
       "         0.00000000e+00,  0.00000000e+00],\n",
       "       [ 0.00000000e+00,  0.00000000e+00,  0.00000000e+00,\n",
       "         0.00000000e+00,  0.00000000e+00,  0.00000000e+00,\n",
       "         0.00000000e+00,  0.00000000e+00],\n",
       "       [ 0.00000000e+00,  0.00000000e+00,  0.00000000e+00,\n",
       "         0.00000000e+00,  0.00000000e+00,  0.00000000e+00,\n",
       "         0.00000000e+00,  0.00000000e+00],\n",
       "       [ 0.00000000e+00,  0.00000000e+00,  0.00000000e+00,\n",
       "         0.00000000e+00,  0.00000000e+00,  0.00000000e+00,\n",
       "         0.00000000e+00,  0.00000000e+00],\n",
       "       [ 0.00000000e+00,  0.00000000e+00,  0.00000000e+00,\n",
       "         0.00000000e+00,  0.00000000e+00,  0.00000000e+00,\n",
       "         0.00000000e+00,  0.00000000e+00],\n",
       "       [ 0.00000000e+00,  0.00000000e+00,  0.00000000e+00,\n",
       "         0.00000000e+00,  0.00000000e+00,  0.00000000e+00,\n",
       "         0.00000000e+00,  0.00000000e+00],\n",
       "       [ 0.00000000e+00,  0.00000000e+00,  0.00000000e+00,\n",
       "         0.00000000e+00,  0.00000000e+00,  0.00000000e+00,\n",
       "         0.00000000e+00,  0.00000000e+00],\n",
       "       [ 0.00000000e+00,  0.00000000e+00,  0.00000000e+00,\n",
       "         0.00000000e+00,  0.00000000e+00,  0.00000000e+00,\n",
       "         0.00000000e+00,  0.00000000e+00],\n",
       "       [ 0.00000000e+00,  0.00000000e+00,  0.00000000e+00,\n",
       "         0.00000000e+00,  0.00000000e+00,  0.00000000e+00,\n",
       "         0.00000000e+00,  0.00000000e+00],\n",
       "       [ 0.00000000e+00,  0.00000000e+00,  0.00000000e+00,\n",
       "         0.00000000e+00,  0.00000000e+00,  0.00000000e+00,\n",
       "         0.00000000e+00,  0.00000000e+00],\n",
       "       [ 0.00000000e+00,  0.00000000e+00,  0.00000000e+00,\n",
       "         0.00000000e+00,  0.00000000e+00,  0.00000000e+00,\n",
       "         0.00000000e+00,  0.00000000e+00],\n",
       "       [ 0.00000000e+00,  0.00000000e+00,  0.00000000e+00,\n",
       "         0.00000000e+00,  0.00000000e+00,  0.00000000e+00,\n",
       "         0.00000000e+00,  0.00000000e+00],\n",
       "       [ 0.00000000e+00,  0.00000000e+00,  0.00000000e+00,\n",
       "         0.00000000e+00,  0.00000000e+00,  0.00000000e+00,\n",
       "         0.00000000e+00,  0.00000000e+00],\n",
       "       [ 0.00000000e+00,  0.00000000e+00,  0.00000000e+00,\n",
       "         0.00000000e+00,  0.00000000e+00,  0.00000000e+00,\n",
       "         0.00000000e+00,  0.00000000e+00]])"
      ]
     },
     "execution_count": 19,
     "metadata": {},
     "output_type": "execute_result"
    }
   ],
   "source": [
    "obs"
   ]
  },
  {
   "cell_type": "code",
   "execution_count": 43,
   "metadata": {
    "ExecuteTime": {
     "end_time": "2020-03-18T20:23:16.130925Z",
     "start_time": "2020-03-18T20:23:16.045845Z"
    }
   },
   "outputs": [
    {
     "data": {
      "text/html": [
       "<div>\n",
       "<style scoped>\n",
       "    .dataframe tbody tr th:only-of-type {\n",
       "        vertical-align: middle;\n",
       "    }\n",
       "\n",
       "    .dataframe tbody tr th {\n",
       "        vertical-align: top;\n",
       "    }\n",
       "\n",
       "    .dataframe thead th {\n",
       "        text-align: right;\n",
       "    }\n",
       "</style>\n",
       "<table border=\"1\" class=\"dataframe\">\n",
       "  <thead>\n",
       "    <tr style=\"text-align: right;\">\n",
       "      <th></th>\n",
       "      <th>t</th>\n",
       "      <th>dest</th>\n",
       "      <th>due</th>\n",
       "      <th>price</th>\n",
       "      <th>penalty</th>\n",
       "      <th>dest_cost</th>\n",
       "      <th>dest_cap</th>\n",
       "      <th>t_left</th>\n",
       "    </tr>\n",
       "  </thead>\n",
       "  <tbody>\n",
       "    <tr>\n",
       "      <th>0</th>\n",
       "      <td>98.0</td>\n",
       "      <td>6.0</td>\n",
       "      <td>2.0</td>\n",
       "      <td>0.500000</td>\n",
       "      <td>0.250000</td>\n",
       "      <td>0.276464</td>\n",
       "      <td>0.0</td>\n",
       "      <td>0.0</td>\n",
       "    </tr>\n",
       "    <tr>\n",
       "      <th>1</th>\n",
       "      <td>98.0</td>\n",
       "      <td>6.0</td>\n",
       "      <td>2.0</td>\n",
       "      <td>0.500000</td>\n",
       "      <td>0.250000</td>\n",
       "      <td>0.276464</td>\n",
       "      <td>0.0</td>\n",
       "      <td>0.0</td>\n",
       "    </tr>\n",
       "    <tr>\n",
       "      <th>2</th>\n",
       "      <td>99.0</td>\n",
       "      <td>2.0</td>\n",
       "      <td>2.0</td>\n",
       "      <td>0.500000</td>\n",
       "      <td>0.250000</td>\n",
       "      <td>0.437728</td>\n",
       "      <td>2.0</td>\n",
       "      <td>1.0</td>\n",
       "    </tr>\n",
       "    <tr>\n",
       "      <th>3</th>\n",
       "      <td>99.0</td>\n",
       "      <td>4.0</td>\n",
       "      <td>7.0</td>\n",
       "      <td>0.142857</td>\n",
       "      <td>0.020408</td>\n",
       "      <td>0.779976</td>\n",
       "      <td>2.0</td>\n",
       "      <td>6.0</td>\n",
       "    </tr>\n",
       "    <tr>\n",
       "      <th>4</th>\n",
       "      <td>99.0</td>\n",
       "      <td>7.0</td>\n",
       "      <td>2.0</td>\n",
       "      <td>0.500000</td>\n",
       "      <td>0.250000</td>\n",
       "      <td>0.801872</td>\n",
       "      <td>3.0</td>\n",
       "      <td>1.0</td>\n",
       "    </tr>\n",
       "    <tr>\n",
       "      <th>...</th>\n",
       "      <td>...</td>\n",
       "      <td>...</td>\n",
       "      <td>...</td>\n",
       "      <td>...</td>\n",
       "      <td>...</td>\n",
       "      <td>...</td>\n",
       "      <td>...</td>\n",
       "      <td>...</td>\n",
       "    </tr>\n",
       "    <tr>\n",
       "      <th>95</th>\n",
       "      <td>0.0</td>\n",
       "      <td>0.0</td>\n",
       "      <td>0.0</td>\n",
       "      <td>0.000000</td>\n",
       "      <td>0.000000</td>\n",
       "      <td>0.000000</td>\n",
       "      <td>0.0</td>\n",
       "      <td>0.0</td>\n",
       "    </tr>\n",
       "    <tr>\n",
       "      <th>96</th>\n",
       "      <td>0.0</td>\n",
       "      <td>0.0</td>\n",
       "      <td>0.0</td>\n",
       "      <td>0.000000</td>\n",
       "      <td>0.000000</td>\n",
       "      <td>0.000000</td>\n",
       "      <td>0.0</td>\n",
       "      <td>0.0</td>\n",
       "    </tr>\n",
       "    <tr>\n",
       "      <th>97</th>\n",
       "      <td>0.0</td>\n",
       "      <td>0.0</td>\n",
       "      <td>0.0</td>\n",
       "      <td>0.000000</td>\n",
       "      <td>0.000000</td>\n",
       "      <td>0.000000</td>\n",
       "      <td>0.0</td>\n",
       "      <td>0.0</td>\n",
       "    </tr>\n",
       "    <tr>\n",
       "      <th>98</th>\n",
       "      <td>0.0</td>\n",
       "      <td>0.0</td>\n",
       "      <td>0.0</td>\n",
       "      <td>0.000000</td>\n",
       "      <td>0.000000</td>\n",
       "      <td>0.000000</td>\n",
       "      <td>0.0</td>\n",
       "      <td>0.0</td>\n",
       "    </tr>\n",
       "    <tr>\n",
       "      <th>99</th>\n",
       "      <td>0.0</td>\n",
       "      <td>0.0</td>\n",
       "      <td>0.0</td>\n",
       "      <td>0.000000</td>\n",
       "      <td>0.000000</td>\n",
       "      <td>0.000000</td>\n",
       "      <td>0.0</td>\n",
       "      <td>0.0</td>\n",
       "    </tr>\n",
       "  </tbody>\n",
       "</table>\n",
       "<p>100 rows × 8 columns</p>\n",
       "</div>"
      ],
      "text/plain": [
       "       t  dest  due     price   penalty  dest_cost  dest_cap  t_left\n",
       "0   98.0   6.0  2.0  0.500000  0.250000   0.276464       0.0     0.0\n",
       "1   98.0   6.0  2.0  0.500000  0.250000   0.276464       0.0     0.0\n",
       "2   99.0   2.0  2.0  0.500000  0.250000   0.437728       2.0     1.0\n",
       "3   99.0   4.0  7.0  0.142857  0.020408   0.779976       2.0     6.0\n",
       "4   99.0   7.0  2.0  0.500000  0.250000   0.801872       3.0     1.0\n",
       "..   ...   ...  ...       ...       ...        ...       ...     ...\n",
       "95   0.0   0.0  0.0  0.000000  0.000000   0.000000       0.0     0.0\n",
       "96   0.0   0.0  0.0  0.000000  0.000000   0.000000       0.0     0.0\n",
       "97   0.0   0.0  0.0  0.000000  0.000000   0.000000       0.0     0.0\n",
       "98   0.0   0.0  0.0  0.000000  0.000000   0.000000       0.0     0.0\n",
       "99   0.0   0.0  0.0  0.000000  0.000000   0.000000       0.0     0.0\n",
       "\n",
       "[100 rows x 8 columns]"
      ]
     },
     "execution_count": 43,
     "metadata": {},
     "output_type": "execute_result"
    }
   ],
   "source": [
    "env.render(\"df\")"
   ]
  },
  {
   "cell_type": "markdown",
   "metadata": {},
   "source": [
    "## DDPG using Ray"
   ]
  },
  {
   "cell_type": "code",
   "execution_count": null,
   "metadata": {},
   "outputs": [],
   "source": [
    ">>> prep = ModelCatalog.get_preprocessor(env)\n",
    ">>> observation = prep.transform(raw_observation)\n"
   ]
  },
  {
   "cell_type": "code",
   "execution_count": null,
   "metadata": {
    "ExecuteTime": {
     "end_time": "2020-03-18T00:27:01.103228Z",
     "start_time": "2020-03-18T00:03:36.463976Z"
    },
    "scrolled": true
   },
   "outputs": [],
   "source": [
    "# import numpy as np\n",
    "# import gym\n",
    "# from gym.spaces import Box\n",
    "\n",
    "import ray\n",
    "from ray import tune\n",
    "# from ray.rllib.utils import try_import_tf\n",
    "    \n",
    "# import ray.rllib.agents.ppo as ppo\n",
    "# from ray.tune.logger import pretty_print\n",
    "\n",
    "# tf = try_import_tf()\n",
    "\n",
    "# gym environment adapter for ray\n",
    "class RayEnv(gym.Env):\n",
    "    def __init__(self, config):\n",
    "        self.env = config[\"env\"]\n",
    "        self.action_space = self.env.action_space\n",
    "        self.observation_space = self.env.observation_space\n",
    "\n",
    "    def reset(self):\n",
    "        return self.env.reset()\n",
    "\n",
    "    def step(self, action):\n",
    "        # TODO need to rescale the space in order to make the model train better\n",
    "        # TODO see https://ray.readthedocs.io/en/latest/rllib-models.html for details.\n",
    "        return self.env.step(action)\n",
    "\n",
    "ray.shutdown()\n",
    "ray.init()\n",
    "\n",
    "config = {\n",
    "    \"num_gpus\": 1,\n",
    "    \"log_level\": \"ERROR\"\n",
    "    \n",
    "}\n",
    "config[\"env_config\"] = {\"env\": env}\n",
    "\n",
    "trainer = ppo.PPOTrainer(config=config, env=RayEnv)\n",
    "for i in range(NUM_EPISODES):\n",
    "    result = trainer.train()\n",
    "    print(\"result: {}\".format(result))"
   ]
  },
  {
   "cell_type": "code",
   "execution_count": null,
   "metadata": {
    "ExecuteTime": {
     "end_time": "2020-03-18T02:24:24.183778Z",
     "start_time": "2020-03-18T02:24:24.148806Z"
    }
   },
   "outputs": [],
   "source": [
    "policy = trainer.get_policy()"
   ]
  },
  {
   "cell_type": "code",
   "execution_count": null,
   "metadata": {
    "ExecuteTime": {
     "end_time": "2020-03-18T02:24:58.862185Z",
     "start_time": "2020-03-18T02:24:58.812032Z"
    }
   },
   "outputs": [],
   "source": [
    "env.render(\"df\")"
   ]
  },
  {
   "cell_type": "code",
   "execution_count": null,
   "metadata": {
    "ExecuteTime": {
     "end_time": "2020-03-18T02:26:15.166572Z",
     "start_time": "2020-03-18T02:26:15.129761Z"
    }
   },
   "outputs": [],
   "source": [
    "action[0]"
   ]
  },
  {
   "cell_type": "code",
   "execution_count": null,
   "metadata": {
    "ExecuteTime": {
     "end_time": "2020-03-18T02:25:55.025862Z",
     "start_time": "2020-03-18T02:25:54.514894Z"
    }
   },
   "outputs": [],
   "source": [
    "# env.render()\n",
    "# obs, state, prev_action=None, prev_reward=None, info=None, episode=None, clip_actions=False\n",
    "\n",
    "env.reset(SEED)\n",
    "done = False\n",
    "rewards = []\n",
    "while not done:\n",
    "    action = policy.compute_single_action(env.render())\n",
    "    _, reward, done, info = env.step(action[0])\n",
    "    rewards.append(reward)\n",
    "#     print(info['num_items_failed_to_deliver'])\n",
    "\n",
    "plt.figure(figsize=(12,4))\n",
    "plt.margins(0.02)\n",
    "plt.plot(rewards)\n",
    "plt.xlabel(\"Time step\")\n",
    "plt.ylabel(\"Profit\")\n"
   ]
  },
  {
   "cell_type": "markdown",
   "metadata": {},
   "source": [
    "# Analysis and Debugging of the Policy Produced by RLlib"
   ]
  },
  {
   "cell_type": "code",
   "execution_count": null,
   "metadata": {},
   "outputs": [],
   "source": [
    "import json\n",
    "\n",
    "def load_policy():\n",
    "    log_dir = \".../ray_results/DDPG_SimpleSupplyChain_2020-01-23_20-51-479cn5z0i0\" # this path needs to be set manually\n",
    "    checkpoint_id = \"200\"\n",
    "    with open(f\"{log_dir}/params.json\", \"r\") as read_file:\n",
    "        config = json.load(read_file)\n",
    "    trainer = ddpg.DDPGTrainer(config=config, env=SimpleSupplyChain)\n",
    "    trainer.restore(f\"{log_dir}/checkpoint_{checkpoint_id}/checkpoint-{checkpoint_id}\")\n",
    "    return trainer.get_policy()\n",
    "\n",
    "policy = load_policy()\n",
    "\n",
    "# tracing the policy\n",
    "env = SupplyChainEnvironment()\n",
    "state = env.initial_state()\n",
    "transitions_rl = []\n",
    "for t in range(env.T):\n",
    "    action = policy.compute_single_action( state.to_array() , state=[] ) \n",
    "    action_obj = Action(env.warehouse_num)\n",
    "    action_obj.production_level = action[0][0]\n",
    "    action_obj.shippings_to_warehouses = action[0][1:]\n",
    "    state, reward, _ = env.step(state, action_obj)\n",
    "    transitions_rl.append([state, action_obj, reward])"
   ]
  },
  {
   "cell_type": "code",
   "execution_count": null,
   "metadata": {},
   "outputs": [],
   "source": [
    "# tracing the policy\n",
    "visualize_transitions(np.array(transitions_rl))"
   ]
  },
  {
   "cell_type": "code",
   "execution_count": null,
   "metadata": {},
   "outputs": [],
   "source": []
  },
  {
   "cell_type": "code",
   "execution_count": null,
   "metadata": {},
   "outputs": [],
   "source": [
    "# Using Ray's tune. \n",
    "import ray\n",
    "from ray import tune\n",
    "\n",
    "ray.init()\n",
    "tune.run(\n",
    "    \"PPO\",\n",
    "    stop={\"episode_reward_mean\": 200},\n",
    "    config={\n",
    "        \"env\": \"CartPole-v0\",\n",
    "        \"num_gpus\": 0,\n",
    "        \"num_workers\": 1,\n",
    "        \"lr\": tune.grid_search([0.01, 0.001, 0.0001]),\n",
    "        \"eager\": False,\n",
    "    },\n",
    ")\n"
   ]
  }
 ],
 "metadata": {
  "kernelspec": {
   "display_name": "Python 3",
   "language": "python",
   "name": "python3"
  },
  "language_info": {
   "codemirror_mode": {
    "name": "ipython",
    "version": 3
   },
   "file_extension": ".py",
   "mimetype": "text/x-python",
   "name": "python",
   "nbconvert_exporter": "python",
   "pygments_lexer": "ipython3",
   "version": "3.7.6"
  }
 },
 "nbformat": 4,
 "nbformat_minor": 4
}
