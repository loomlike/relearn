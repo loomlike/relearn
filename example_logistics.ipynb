{
 "cells": [
  {
   "cell_type": "markdown",
   "metadata": {},
   "source": [
    "# Logistics Optimization"
   ]
  },
  {
   "cell_type": "code",
   "execution_count": 1,
   "metadata": {
    "ExecuteTime": {
     "end_time": "2020-03-16T17:44:58.303795Z",
     "start_time": "2020-03-16T17:44:57.979121Z"
    }
   },
   "outputs": [],
   "source": [
    "%reload_ext autoreload\n",
    "%autoreload 2\n",
    "%reload_ext blackcellmagic\n",
    "%matplotlib inline"
   ]
  },
  {
   "cell_type": "code",
   "execution_count": 2,
   "metadata": {
    "ExecuteTime": {
     "end_time": "2020-03-16T17:44:58.713047Z",
     "start_time": "2020-03-16T17:44:58.305243Z"
    }
   },
   "outputs": [],
   "source": [
    "import collections\n",
    "import json\n",
    "import math \n",
    "\n",
    "import matplotlib.pyplot as plt\n",
    "import numpy as np\n",
    "import pandas as pd\n",
    "import seaborn as sns\n",
    "sns.set()\n",
    "\n",
    "from relearn.env import SimpleLogistics, Warehouse"
   ]
  },
  {
   "cell_type": "markdown",
   "metadata": {},
   "source": [
    "# Logistics Provider Environment\n",
    "\n",
    "In this example, we simulate the item delivery of a logistics provider.\n",
    "We define the problem as **Dispatch items from arbitrary sellers to a logistics provider's distribution center (warehouse) where the logistics provider delivers the items to their destinations**.\n",
    "\n",
    "To make our problem simpler, we set following assumptions:\n",
    "- The distribution center operates independently so that we can define the single warehouse in our simulation.\n",
    "- Items are dispatched and stored into the warehouse every day with a fixed (transportation) cost.\n",
    "- Each item has one of two types of delivery: 2-day and 7-day delivery.\n",
    "- There is no penalty for the dispatch failure caused by full-inventory, but there is a penalty for the late delivery.\n",
    "- Items of the same destination are grouped and shipped together.\n",
    "\n",
    "> TODO: Currently, this environment doesn't consider the route-optimization.\n",
    "\n",
    "Here are our environment parameters:"
   ]
  },
  {
   "cell_type": "code",
   "execution_count": 3,
   "metadata": {
    "ExecuteTime": {
     "end_time": "2020-03-16T17:45:13.729593Z",
     "start_time": "2020-03-16T17:45:13.700714Z"
    }
   },
   "outputs": [],
   "source": [
    "NUM_EPISODES = 100  # days\n",
    "\n",
    "# Average number of items to dispatch per episode\n",
    "AVG_DEMAND = 20\n",
    "\n",
    "# Number of item delivery destinations\n",
    "NUM_DESTINATIONS = 10\n",
    "\n",
    "# Distribution center capacity\n",
    "WAREHOUSE_CAPACITY = 100\n",
    "\n",
    "# Max items that can be delivered to the same location at a time\n",
    "DELIVERY_CAPACITY = 5 \n",
    "\n",
    "SEED = 1234"
   ]
  },
  {
   "cell_type": "code",
   "execution_count": 22,
   "metadata": {
    "ExecuteTime": {
     "end_time": "2020-03-16T17:58:34.686623Z",
     "start_time": "2020-03-16T17:58:34.452687Z"
    },
    "scrolled": true
   },
   "outputs": [
    {
     "name": "stderr",
     "output_type": "stream",
     "text": [
      "/home/jumin/miniconda3/envs/relearn/lib/python3.7/site-packages/gym/logger.py:30: UserWarning: \u001b[33mWARN: Box bound precision lowered by casting to float32\u001b[0m\n",
      "  warnings.warn(colorize('%s: %s'%('WARN', msg % args), 'yellow'))\n"
     ]
    },
    {
     "data": {
      "text/html": [
       "<div>\n",
       "<style scoped>\n",
       "    .dataframe tbody tr th:only-of-type {\n",
       "        vertical-align: middle;\n",
       "    }\n",
       "\n",
       "    .dataframe tbody tr th {\n",
       "        vertical-align: top;\n",
       "    }\n",
       "\n",
       "    .dataframe thead th {\n",
       "        text-align: right;\n",
       "    }\n",
       "</style>\n",
       "<table border=\"1\" class=\"dataframe\">\n",
       "  <thead>\n",
       "    <tr style=\"text-align: right;\">\n",
       "      <th></th>\n",
       "      <th>t</th>\n",
       "      <th>dest</th>\n",
       "      <th>due</th>\n",
       "      <th>price</th>\n",
       "      <th>penalty</th>\n",
       "      <th>dest_cost</th>\n",
       "      <th>dest_cap</th>\n",
       "    </tr>\n",
       "  </thead>\n",
       "  <tbody>\n",
       "    <tr>\n",
       "      <th>0</th>\n",
       "      <td>0.0</td>\n",
       "      <td>7.0</td>\n",
       "      <td>2.0</td>\n",
       "      <td>0.5</td>\n",
       "      <td>0.25</td>\n",
       "      <td>0.801872</td>\n",
       "      <td>4.0</td>\n",
       "    </tr>\n",
       "    <tr>\n",
       "      <th>1</th>\n",
       "      <td>0.0</td>\n",
       "      <td>0.0</td>\n",
       "      <td>2.0</td>\n",
       "      <td>0.5</td>\n",
       "      <td>0.25</td>\n",
       "      <td>0.191519</td>\n",
       "      <td>1.0</td>\n",
       "    </tr>\n",
       "    <tr>\n",
       "      <th>2</th>\n",
       "      <td>0.0</td>\n",
       "      <td>9.0</td>\n",
       "      <td>2.0</td>\n",
       "      <td>0.5</td>\n",
       "      <td>0.25</td>\n",
       "      <td>0.875933</td>\n",
       "      <td>2.0</td>\n",
       "    </tr>\n",
       "    <tr>\n",
       "      <th>3</th>\n",
       "      <td>0.0</td>\n",
       "      <td>1.0</td>\n",
       "      <td>2.0</td>\n",
       "      <td>0.5</td>\n",
       "      <td>0.25</td>\n",
       "      <td>0.622109</td>\n",
       "      <td>3.0</td>\n",
       "    </tr>\n",
       "    <tr>\n",
       "      <th>4</th>\n",
       "      <td>0.0</td>\n",
       "      <td>5.0</td>\n",
       "      <td>2.0</td>\n",
       "      <td>0.5</td>\n",
       "      <td>0.25</td>\n",
       "      <td>0.272593</td>\n",
       "      <td>4.0</td>\n",
       "    </tr>\n",
       "  </tbody>\n",
       "</table>\n",
       "</div>"
      ],
      "text/plain": [
       "     t  dest  due  price  penalty  dest_cost  dest_cap\n",
       "0  0.0   7.0  2.0    0.5     0.25   0.801872       4.0\n",
       "1  0.0   0.0  2.0    0.5     0.25   0.191519       1.0\n",
       "2  0.0   9.0  2.0    0.5     0.25   0.875933       2.0\n",
       "3  0.0   1.0  2.0    0.5     0.25   0.622109       3.0\n",
       "4  0.0   5.0  2.0    0.5     0.25   0.272593       4.0"
      ]
     },
     "execution_count": 22,
     "metadata": {},
     "output_type": "execute_result"
    }
   ],
   "source": [
    "env = SimpleLogistics(\n",
    "    T=NUM_EPISODES,\n",
    "    capacity=WAREHOUSE_CAPACITY,\n",
    "    delivery_capacity=DELIVERY_CAPACITY,\n",
    "    num_destinations=NUM_DESTINATIONS,\n",
    "    demand_fn=AVG_DEMAND,\n",
    "    seed=SEED,\n",
    ")\n",
    "env.render('df').head(5)"
   ]
  },
  {
   "cell_type": "code",
   "execution_count": 23,
   "metadata": {
    "ExecuteTime": {
     "end_time": "2020-03-16T17:58:35.653856Z",
     "start_time": "2020-03-16T17:58:35.430839Z"
    }
   },
   "outputs": [
    {
     "data": {
      "text/plain": [
       "Text(0, 0.5, 'Demand')"
      ]
     },
     "execution_count": 23,
     "metadata": {},
     "output_type": "execute_result"
    },
    {
     "data": {
      "image/png": "[encoded data removed]",
      "text/plain": [
       "<Figure size 864x288 with 1 Axes>"
      ]
     },
     "metadata": {},
     "output_type": "display_data"
    }
   ],
   "source": [
    "# Visualize demand functions\n",
    "env.reset(SEED)\n",
    "plt.figure(figsize=(12,4))\n",
    "plt.margins(0.02)\n",
    "plt.stem([len(env.demand()) for _ in range(NUM_EPISODES)], use_line_collection=True)\n",
    "plt.xlabel(\"Time step\")\n",
    "plt.ylabel(\"Demand\")"
   ]
  },
  {
   "cell_type": "code",
   "execution_count": 24,
   "metadata": {
    "ExecuteTime": {
     "end_time": "2020-03-16T17:58:35.882804Z",
     "start_time": "2020-03-16T17:58:35.860398Z"
    }
   },
   "outputs": [
    {
     "data": {
      "text/plain": [
       "array([0.19151945, 0.62210877, 0.43772774, 0.78535858, 0.77997581,\n",
       "       0.27259261, 0.27646426, 0.80187218, 0.95813935, 0.87593263])"
      ]
     },
     "execution_count": 24,
     "metadata": {},
     "output_type": "execute_result"
    }
   ],
   "source": [
    "# Delivery costs to each destination area\n",
    "env.warehouse.delivery_costs"
   ]
  },
  {
   "cell_type": "code",
   "execution_count": 25,
   "metadata": {
    "ExecuteTime": {
     "end_time": "2020-03-16T17:58:36.624651Z",
     "start_time": "2020-03-16T17:58:36.587997Z"
    },
    "scrolled": false
   },
   "outputs": [
    {
     "data": {
      "text/plain": [
       "array([67, 13,  7, 83, 66, 55, 83, 11, 79, -1, 36, 61, 13, 69, 41, 88, 67,\n",
       "       82, 31, 87, 67, 71, 17, 69, 21, 66, 55, 65, 99, 96, 67,  2, 18, 56,\n",
       "       61, 27, 87, 38, 47, 69, 87, 21, 26, 37, 46, 36, 27, 49, 16, 36, 85,\n",
       "       37, 78, 32,  4, 64, 22, 65,  8, 96, 57, 73, 36, 54, 69, 36,  3, 19,\n",
       "        2,  1, 27, 40, 80, 49, 66,  2, 77, 72, 75, 25, 88, 55, 99,  1, 41,\n",
       "       85, 38, 50, 70, 78, 73, 94, 12, 72,  4, 98, 87, 74, 26,  0])"
      ]
     },
     "execution_count": 25,
     "metadata": {},
     "output_type": "execute_result"
    }
   ],
   "source": [
    "# Sample action\n",
    "env.action_space.sample()"
   ]
  },
  {
   "cell_type": "code",
   "execution_count": 39,
   "metadata": {
    "ExecuteTime": {
     "end_time": "2020-03-16T18:40:43.959717Z",
     "start_time": "2020-03-16T18:40:42.946967Z"
    }
   },
   "outputs": [
    {
     "data": {
      "text/plain": [
       "Text(0, 0.5, 'Profit')"
      ]
     },
     "execution_count": 39,
     "metadata": {},
     "output_type": "execute_result"
    },
    {
     "data": {
      "image/png": "[encoded data removed]",
      "text/plain": [
       "<Figure size 864x288 with 1 Axes>"
      ]
     },
     "metadata": {},
     "output_type": "display_data"
    }
   ],
   "source": [
    "# Random action\n",
    "env.reset(SEED)\n",
    "done = False\n",
    "rewards = []\n",
    "while not done:\n",
    "    _, reward, done, info = env.step(env.action_space.sample())\n",
    "    rewards.append(reward)\n",
    "\n",
    "plt.figure(figsize=(12,4))\n",
    "plt.margins(0.02)\n",
    "plt.plot(rewards)\n",
    "plt.xlabel(\"Time step\")\n",
    "plt.ylabel(\"Profit\")"
   ]
  },
  {
   "cell_type": "code",
   "execution_count": 40,
   "metadata": {
    "ExecuteTime": {
     "end_time": "2020-03-16T18:40:53.859955Z",
     "start_time": "2020-03-16T18:40:53.560457Z"
    }
   },
   "outputs": [
    {
     "data": {
      "text/plain": [
       "Text(0, 0.5, 'Profit')"
      ]
     },
     "execution_count": 40,
     "metadata": {},
     "output_type": "execute_result"
    },
    {
     "data": {
      "image/png": "[encoded data removed]",
      "text/plain": [
       "<Figure size 864x288 with 1 Axes>"
      ]
     },
     "metadata": {},
     "output_type": "display_data"
    }
   ],
   "source": [
    "# First come first serve\n",
    "env.reset(SEED)\n",
    "done = False\n",
    "rewards = []\n",
    "while not done:\n",
    "    delivery = list(range(len(env.warehouse.inventory)))\n",
    "    _, reward, done, info = env.step(delivery)\n",
    "    rewards.append(reward)\n",
    "#     print(info['num_items_failed_to_deliver'])\n",
    "\n",
    "plt.figure(figsize=(12,4))\n",
    "plt.margins(0.02)\n",
    "plt.plot(rewards)\n",
    "plt.xlabel(\"Time step\")\n",
    "plt.ylabel(\"Profit\")"
   ]
  },
  {
   "cell_type": "code",
   "execution_count": null,
   "metadata": {},
   "outputs": [],
   "source": [
    "# TODO plot demands, delivery, penalty, etc. together\n"
   ]
  },
  {
   "cell_type": "code",
   "execution_count": null,
   "metadata": {
    "ExecuteTime": {
     "end_time": "2020-03-12T20:07:09.592367Z",
     "start_time": "2020-03-12T20:07:09.561481Z"
    }
   },
   "outputs": [],
   "source": [
    "# env.close()"
   ]
  },
  {
   "cell_type": "markdown",
   "metadata": {},
   "source": [
    "# Simple Policy"
   ]
  },
  {
   "cell_type": "code",
   "execution_count": 102,
   "metadata": {
    "ExecuteTime": {
     "end_time": "2020-03-16T19:55:10.585274Z",
     "start_time": "2020-03-16T19:55:10.560907Z"
    }
   },
   "outputs": [],
   "source": [
    "class WaitAndDeliverPolicy:\n",
    "    def __init__(\n",
    "        self,\n",
    "        due,\n",
    "        capacity,\n",
    "        delivery_capacity,\n",
    "    ):\n",
    "        \"\"\"Wait to collect as many items as possible before delivery.\n",
    "        Deliver when there are due items or reached to delivery_capacity_limit\n",
    "        or capacity_limit.\n",
    "        \"\"\"\n",
    "        self.due = due\n",
    "        self.capacity = capacity\n",
    "        self.delivery_capacity = delivery_capacity\n",
    "\n",
    "    def action(self, state_df):\n",
    "        \"\"\"Check inventory, select items to deliver ():\n",
    "        \"\"\"\n",
    "        full_capacity = len(state_df)\n",
    "        \n",
    "        # remove empty\n",
    "        df = pd.DataFrame(state_df.loc[state_df['price'] > 0.0])\n",
    "        df['due-t'] = df['due'] - df['t']\n",
    "        \n",
    "        if len(df) > self.capacity:\n",
    "            pass  # Try to deliver all \n",
    "        else:\n",
    "            # deliver the items close to the due date and other items that have the same destinations.\n",
    "            due_items = df.loc[df['due-t'] < self.due]\n",
    "            areas = set(due_items['dest'].unique())\n",
    "            \n",
    "            # also, include areas where the delivery capacity is full\n",
    "            dest_cnt = df.groupby('dest').count()['t']\n",
    "            areas.update(dest_cnt.loc[dest_cnt > self.delivery_capacity].index)\n",
    "            \n",
    "            # select the items for those areas\n",
    "            df = df.loc[df['dest'].isin(areas)]\n",
    "        \n",
    "        return np.array(df.sort_values('due-t').index)\n"
   ]
  },
  {
   "cell_type": "code",
   "execution_count": 103,
   "metadata": {
    "ExecuteTime": {
     "end_time": "2020-03-16T19:55:11.537407Z",
     "start_time": "2020-03-16T19:55:11.521248Z"
    }
   },
   "outputs": [],
   "source": [
    "wd_policy = WaitAndDeliverPolicy(\n",
    "    due=1.0,\n",
    "    capacity=int(WAREHOUSE_CAPACITY * 0.8),\n",
    "    delivery_capacity=int(DELIVERY_CAPACITY * 0.8),\n",
    ")"
   ]
  },
  {
   "cell_type": "code",
   "execution_count": 127,
   "metadata": {
    "ExecuteTime": {
     "end_time": "2020-03-16T19:57:53.903122Z",
     "start_time": "2020-03-16T19:57:53.290485Z"
    }
   },
   "outputs": [
    {
     "data": {
      "text/plain": [
       "Text(0, 0.5, 'Profit')"
      ]
     },
     "execution_count": 127,
     "metadata": {},
     "output_type": "execute_result"
    },
    {
     "data": {
      "image/png": "[encoded data removed]",
      "text/plain": [
       "<Figure size 864x288 with 1 Axes>"
      ]
     },
     "metadata": {},
     "output_type": "display_data"
    }
   ],
   "source": [
    "env.reset(SEED)\n",
    "done = False\n",
    "rewards = []\n",
    "while not done:\n",
    "    action = wd_policy.action(env.render('df'))\n",
    "    _, reward, done, info = env.step(action)\n",
    "    rewards.append(reward)\n",
    "#     print(info['num_items_failed_to_deliver'])\n",
    "\n",
    "plt.figure(figsize=(12,4))\n",
    "plt.margins(0.02)\n",
    "plt.plot(rewards)\n",
    "plt.xlabel(\"Time step\")\n",
    "plt.ylabel(\"Profit\")"
   ]
  },
  {
   "cell_type": "code",
   "execution_count": null,
   "metadata": {},
   "outputs": [],
   "source": [
    "\n"
   ]
  },
  {
   "cell_type": "markdown",
   "metadata": {},
   "source": [
    "### Optimizing (s, Q)-policy parameters using Facebook Ax"
   ]
  },
  {
   "cell_type": "code",
   "execution_count": null,
   "metadata": {},
   "outputs": [],
   "source": [
    "from ax import optimize\n",
    "\n",
    "def func(p):\n",
    "    policy = SQPolicy(\n",
    "        p['factory_s'], \n",
    "        p['factory_Q'],\n",
    "        [ p['w1_s'], p['w2_s'], p['w3_s'], ],\n",
    "        [ p['w1_Q'], p['w2_Q'], p['w3_Q'], ]\n",
    "    )\n",
    "    return np.mean(simulate(env, policy, num_episodes = 30))\n",
    "\n",
    "best_parameters, best_values, experiment, model = optimize(\n",
    "        parameters=[\n",
    "          { \"name\": \"factory_s\",   \"type\": \"range\",  \"bounds\": [0.0, 30.0], },\n",
    "          { \"name\": \"factory_Q\",   \"type\": \"range\",  \"bounds\": [0.0, 30.0], },\n",
    "          { \"name\": \"w1_s\",        \"type\": \"range\",  \"bounds\": [0.0, 20.0], },\n",
    "          { \"name\": \"w1_Q\",        \"type\": \"range\",  \"bounds\": [0.0, 20.0], },  \n",
    "          { \"name\": \"w2_s\",        \"type\": \"range\",  \"bounds\": [0.0, 20.0], },\n",
    "          { \"name\": \"w2_Q\",        \"type\": \"range\",  \"bounds\": [0.0, 20.0], },    \n",
    "          { \"name\": \"w3_s\",        \"type\": \"range\",  \"bounds\": [0.0, 20.0], },\n",
    "          { \"name\": \"w3_Q\",        \"type\": \"range\",  \"bounds\": [0.0, 20.0], },    \n",
    "        ],\n",
    "        evaluation_function=func,\n",
    "        minimize=False,\n",
    "        total_trials=200,\n",
    "    )"
   ]
  },
  {
   "cell_type": "code",
   "execution_count": null,
   "metadata": {},
   "outputs": [],
   "source": [
    "display(best_parameters)\n",
    "display(best_values)"
   ]
  },
  {
   "cell_type": "code",
   "execution_count": null,
   "metadata": {},
   "outputs": [],
   "source": [
    "# evaluating the winning (s,Q) policy more accurately\n",
    "env = SupplyChainEnvironment()\n",
    "policy_sQ = SQPolicy(0.0, 20.0, [5, 5, 5], [5, 5, 10])\n",
    "return_trace = simulate(env, policy_sQ, num_episodes = 100)\n",
    "plt.figure(figsize=(16, 4))\n",
    "plt.plot(range(len(return_trace)), return_trace)\n",
    "print(f\"Reward: mean {np.mean(return_trace)}, standard deviation {np.std(return_trace)}\")"
   ]
  },
  {
   "cell_type": "code",
   "execution_count": null,
   "metadata": {},
   "outputs": [],
   "source": [
    "# tracing the winning (s,Q)  policy\n",
    "env = SupplyChainEnvironment()\n",
    "transitions_sQ = simulate_episode(env, policy_sQ)\n",
    "visualize_transitions(np.array(transitions_sQ))"
   ]
  },
  {
   "cell_type": "markdown",
   "metadata": {},
   "source": [
    "### Optimization of (s, Q)-policy parameters using brute force search"
   ]
  },
  {
   "cell_type": "code",
   "execution_count": null,
   "metadata": {},
   "outputs": [],
   "source": [
    "from sklearn.model_selection import ParameterGrid\n",
    "\n",
    "p_grid1 = [5, 10, 20]\n",
    "p_grid2 = [5, 10, 20]\n",
    "param_grid = {\n",
    "    'factory_s': p_grid1, \n",
    "    'factory_Q': p_grid1,\n",
    "    'w1_s': p_grid2,\n",
    "    'w2_s': p_grid2,\n",
    "    'w3_s': p_grid2,\n",
    "    'w1_Q': p_grid2,\n",
    "    'w2_Q': p_grid2,\n",
    "    'w3_Q': p_grid2,\n",
    "    }\n",
    "\n",
    "env = SupplyChainEnvironment()\n",
    "grid = ParameterGrid(param_grid)\n",
    "i = 0\n",
    "best_return = float('-inf')\n",
    "for p in grid:\n",
    "    policy = SQPolicy(\n",
    "        p['factory_s'], p['factory_Q'],\n",
    "        [ p['w1_s'], p['w2_s'], p['w3_s'], ],\n",
    "        [ p['w1_Q'], p['w2_Q'], p['w3_Q'], ]\n",
    "    )\n",
    "    m_return = np.mean(simulate(env, policy, num_episodes = 10))\n",
    "    if m_return > best_return:\n",
    "        best_return = m_return\n",
    "        best_params = p\n",
    "\n",
    "    if i % 100 == 0:\n",
    "        print(f\"Configuration #{i} -- {best_return}\")\n",
    "    i += 1"
   ]
  },
  {
   "cell_type": "markdown",
   "metadata": {},
   "source": [
    "# Optimizing the Policy Using Reinforcement Learning / RLlib"
   ]
  },
  {
   "cell_type": "code",
   "execution_count": null,
   "metadata": {
    "scrolled": true
   },
   "outputs": [],
   "source": [
    "import numpy as np\n",
    "import gym\n",
    "from gym.spaces import Box\n",
    "\n",
    "import ray\n",
    "from ray import tune\n",
    "from ray.rllib.utils import try_import_tf\n",
    "\n",
    "import ray.rllib.agents.ddpg as ddpg\n",
    "from ray.tune.logger import pretty_print\n",
    "\n",
    "tf = try_import_tf()\n",
    "\n",
    "# gym environment adapter\n",
    "class SimpleSupplyChain(gym.Env):\n",
    "    def __init__(self, config):\n",
    "        self.reset()\n",
    "        self.action_space = Box(low=0.0, high=20.0, shape=(self.supply_chain.warehouse_num + 1, ), dtype=np.int16)\n",
    "        self.observation_space = Box(-10000, 10000, shape=(len(self.supply_chain.initial_state().to_array()), ), dtype=np.float32)\n",
    "\n",
    "    def reset(self):\n",
    "        self.supply_chain = SupplyChainEnvironment()\n",
    "        self.state = self.supply_chain.initial_state()\n",
    "        return self.state.to_array()\n",
    "\n",
    "    def step(self, action):\n",
    "        action_obj = Action(self.supply_chain.warehouse_num)\n",
    "        action_obj.production_level = action[0]\n",
    "        action_obj.shippings_to_warehouses = action[1:]\n",
    "        self.state, reward, done = self.supply_chain.step(self.state, action_obj)\n",
    "        return self.state.to_array(), reward, done, {}\n",
    "    \n",
    "ray.shutdown()\n",
    "ray.init()\n",
    "\n",
    "def train_ddpg():\n",
    "    config = ddpg.DEFAULT_CONFIG.copy()\n",
    "    config[\"log_level\"] = \"WARN\"\n",
    "    config[\"actor_hiddens\"] = [512, 512] \n",
    "    config[\"critic_hiddens\"] = [512, 512]\n",
    "    config[\"gamma\"] = 0.95\n",
    "    config[\"timesteps_per_iteration\"] = 1000\n",
    "    config[\"target_network_update_freq\"] = 5\n",
    "    config[\"buffer_size\"] = 10000\n",
    "    \n",
    "    trainer = ddpg.DDPGTrainer(config=config, env=SimpleSupplyChain)\n",
    "    for i in range(200):\n",
    "        result = trainer.train()\n",
    "        print(pretty_print(result))\n",
    "        checkpoint = trainer.save()\n",
    "        print(\"Checkpoint saved at\", checkpoint)\n",
    "\n",
    "train_ddpg()"
   ]
  },
  {
   "cell_type": "markdown",
   "metadata": {},
   "source": [
    "# Analysis and Debugging of the Policy Produced by RLlib"
   ]
  },
  {
   "cell_type": "code",
   "execution_count": null,
   "metadata": {},
   "outputs": [],
   "source": [
    "import json\n",
    "\n",
    "def load_policy():\n",
    "    log_dir = \".../ray_results/DDPG_SimpleSupplyChain_2020-01-23_20-51-479cn5z0i0\" # this path needs to be set manually\n",
    "    checkpoint_id = \"200\"\n",
    "    with open(f\"{log_dir}/params.json\", \"r\") as read_file:\n",
    "        config = json.load(read_file)\n",
    "    trainer = ddpg.DDPGTrainer(config=config, env=SimpleSupplyChain)\n",
    "    trainer.restore(f\"{log_dir}/checkpoint_{checkpoint_id}/checkpoint-{checkpoint_id}\")\n",
    "    return trainer.get_policy()\n",
    "\n",
    "policy = load_policy()\n",
    "\n",
    "# tracing the policy\n",
    "env = SupplyChainEnvironment()\n",
    "state = env.initial_state()\n",
    "transitions_rl = []\n",
    "for t in range(env.T):\n",
    "    action = policy.compute_single_action( state.to_array() , state=[] ) \n",
    "    action_obj = Action(env.warehouse_num)\n",
    "    action_obj.production_level = action[0][0]\n",
    "    action_obj.shippings_to_warehouses = action[0][1:]\n",
    "    state, reward, _ = env.step(state, action_obj)\n",
    "    transitions_rl.append([state, action_obj, reward])"
   ]
  },
  {
   "cell_type": "code",
   "execution_count": null,
   "metadata": {},
   "outputs": [],
   "source": [
    "# tracing the policy\n",
    "visualize_transitions(np.array(transitions_rl))"
   ]
  }
 ],
 "metadata": {
  "kernelspec": {
   "display_name": "Python 3",
   "language": "python",
   "name": "python3"
  },
  "language_info": {
   "codemirror_mode": {
    "name": "ipython",
    "version": 3
   },
   "file_extension": ".py",
   "mimetype": "text/x-python",
   "name": "python",
   "nbconvert_exporter": "python",
   "pygments_lexer": "ipython3",
   "version": "3.7.6"
  }
 },
 "nbformat": 4,
 "nbformat_minor": 4
}
