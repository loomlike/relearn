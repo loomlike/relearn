{
 "cells": [
  {
   "cell_type": "markdown",
   "metadata": {},
   "source": [
    "# Logistics Optimization"
   ]
  },
  {
   "cell_type": "code",
   "execution_count": 1,
   "metadata": {
    "ExecuteTime": {
     "end_time": "2020-03-16T20:46:28.766477Z",
     "start_time": "2020-03-16T20:46:28.405867Z"
    }
   },
   "outputs": [],
   "source": [
    "%reload_ext autoreload\n",
    "%autoreload 2\n",
    "%reload_ext blackcellmagic\n",
    "%matplotlib inline"
   ]
  },
  {
   "cell_type": "code",
   "execution_count": 2,
   "metadata": {
    "ExecuteTime": {
     "end_time": "2020-03-16T20:46:29.322125Z",
     "start_time": "2020-03-16T20:46:28.768157Z"
    }
   },
   "outputs": [],
   "source": [
    "import collections\n",
    "import json\n",
    "import math \n",
    "\n",
    "import matplotlib.pyplot as plt\n",
    "import numpy as np\n",
    "import pandas as pd\n",
    "import seaborn as sns\n",
    "sns.set()\n",
    "\n",
    "from relearn.env import SimpleLogistics, Warehouse"
   ]
  },
  {
   "cell_type": "markdown",
   "metadata": {},
   "source": [
    "# Logistics Provider Environment\n",
    "\n",
    "In this example, we simulate the item delivery of a logistics provider.\n",
    "We define the problem as **Dispatch items from arbitrary sellers to a logistics provider's distribution center (warehouse) where the logistics provider delivers the items to their destinations**.\n",
    "\n",
    "To make our problem simpler, we set following assumptions:\n",
    "- The distribution center operates independently so that we can define the single warehouse in our simulation.\n",
    "- Items are dispatched and stored into the warehouse every day with a fixed (transportation) cost.\n",
    "- Each item has one of two types of delivery: 2-day and 7-day delivery.\n",
    "- There is no penalty for the dispatch failure caused by full-inventory, but there is a penalty for the late delivery.\n",
    "- Items of the same destination are grouped and shipped together.\n",
    "\n",
    "> TODO: Currently, this environment doesn't consider the route-optimization.\n",
    "\n",
    "Here are our environment parameters:"
   ]
  },
  {
   "cell_type": "code",
   "execution_count": 3,
   "metadata": {
    "ExecuteTime": {
     "end_time": "2020-03-16T20:46:29.335950Z",
     "start_time": "2020-03-16T20:46:29.323521Z"
    }
   },
   "outputs": [],
   "source": [
    "NUM_EPISODES = 100  # days\n",
    "\n",
    "# Average number of items to dispatch per episode\n",
    "AVG_DEMAND = 20\n",
    "\n",
    "# Number of item delivery destinations\n",
    "NUM_DESTINATIONS = 10\n",
    "\n",
    "# Distribution center capacity\n",
    "WAREHOUSE_CAPACITY = 100\n",
    "\n",
    "# Max items that can be delivered to the same location at a time\n",
    "DELIVERY_CAPACITY = 5 \n",
    "\n",
    "SEED = 1234"
   ]
  },
  {
   "cell_type": "code",
   "execution_count": 4,
   "metadata": {
    "ExecuteTime": {
     "end_time": "2020-03-16T20:46:29.817004Z",
     "start_time": "2020-03-16T20:46:29.755503Z"
    },
    "scrolled": true
   },
   "outputs": [
    {
     "name": "stderr",
     "output_type": "stream",
     "text": [
      "/home/jumin/miniconda3/envs/relearn/lib/python3.7/site-packages/gym/logger.py:30: UserWarning: \u001b[33mWARN: Box bound precision lowered by casting to float32\u001b[0m\n",
      "  warnings.warn(colorize('%s: %s'%('WARN', msg % args), 'yellow'))\n"
     ]
    },
    {
     "data": {
      "text/html": [
       "<div>\n",
       "<style scoped>\n",
       "    .dataframe tbody tr th:only-of-type {\n",
       "        vertical-align: middle;\n",
       "    }\n",
       "\n",
       "    .dataframe tbody tr th {\n",
       "        vertical-align: top;\n",
       "    }\n",
       "\n",
       "    .dataframe thead th {\n",
       "        text-align: right;\n",
       "    }\n",
       "</style>\n",
       "<table border=\"1\" class=\"dataframe\">\n",
       "  <thead>\n",
       "    <tr style=\"text-align: right;\">\n",
       "      <th></th>\n",
       "      <th>t</th>\n",
       "      <th>dest</th>\n",
       "      <th>due</th>\n",
       "      <th>price</th>\n",
       "      <th>penalty</th>\n",
       "      <th>dest_cost</th>\n",
       "      <th>dest_cap</th>\n",
       "    </tr>\n",
       "  </thead>\n",
       "  <tbody>\n",
       "    <tr>\n",
       "      <th>0</th>\n",
       "      <td>0.0</td>\n",
       "      <td>7.0</td>\n",
       "      <td>2.0</td>\n",
       "      <td>0.5</td>\n",
       "      <td>0.25</td>\n",
       "      <td>0.801872</td>\n",
       "      <td>4.0</td>\n",
       "    </tr>\n",
       "    <tr>\n",
       "      <th>1</th>\n",
       "      <td>0.0</td>\n",
       "      <td>0.0</td>\n",
       "      <td>2.0</td>\n",
       "      <td>0.5</td>\n",
       "      <td>0.25</td>\n",
       "      <td>0.191519</td>\n",
       "      <td>1.0</td>\n",
       "    </tr>\n",
       "    <tr>\n",
       "      <th>2</th>\n",
       "      <td>0.0</td>\n",
       "      <td>9.0</td>\n",
       "      <td>2.0</td>\n",
       "      <td>0.5</td>\n",
       "      <td>0.25</td>\n",
       "      <td>0.875933</td>\n",
       "      <td>2.0</td>\n",
       "    </tr>\n",
       "    <tr>\n",
       "      <th>3</th>\n",
       "      <td>0.0</td>\n",
       "      <td>1.0</td>\n",
       "      <td>2.0</td>\n",
       "      <td>0.5</td>\n",
       "      <td>0.25</td>\n",
       "      <td>0.622109</td>\n",
       "      <td>3.0</td>\n",
       "    </tr>\n",
       "    <tr>\n",
       "      <th>4</th>\n",
       "      <td>0.0</td>\n",
       "      <td>5.0</td>\n",
       "      <td>2.0</td>\n",
       "      <td>0.5</td>\n",
       "      <td>0.25</td>\n",
       "      <td>0.272593</td>\n",
       "      <td>4.0</td>\n",
       "    </tr>\n",
       "  </tbody>\n",
       "</table>\n",
       "</div>"
      ],
      "text/plain": [
       "     t  dest  due  price  penalty  dest_cost  dest_cap\n",
       "0  0.0   7.0  2.0    0.5     0.25   0.801872       4.0\n",
       "1  0.0   0.0  2.0    0.5     0.25   0.191519       1.0\n",
       "2  0.0   9.0  2.0    0.5     0.25   0.875933       2.0\n",
       "3  0.0   1.0  2.0    0.5     0.25   0.622109       3.0\n",
       "4  0.0   5.0  2.0    0.5     0.25   0.272593       4.0"
      ]
     },
     "execution_count": 4,
     "metadata": {},
     "output_type": "execute_result"
    }
   ],
   "source": [
    "env = SimpleLogistics(\n",
    "    T=NUM_EPISODES,\n",
    "    capacity=WAREHOUSE_CAPACITY,\n",
    "    delivery_capacity=DELIVERY_CAPACITY,\n",
    "    num_destinations=NUM_DESTINATIONS,\n",
    "    demand_fn=AVG_DEMAND,\n",
    "    seed=SEED,\n",
    ")\n",
    "env.render('df').head(5)"
   ]
  },
  {
   "cell_type": "code",
   "execution_count": 5,
   "metadata": {
    "ExecuteTime": {
     "end_time": "2020-03-16T20:46:30.617391Z",
     "start_time": "2020-03-16T20:46:30.339699Z"
    }
   },
   "outputs": [
    {
     "data": {
      "text/plain": [
       "Text(0, 0.5, 'Demand')"
      ]
     },
     "execution_count": 5,
     "metadata": {},
     "output_type": "execute_result"
    },
    {
     "data": {
      "image/png": "[encoded data removed]",
      "text/plain": [
       "<Figure size 864x288 with 1 Axes>"
      ]
     },
     "metadata": {},
     "output_type": "display_data"
    }
   ],
   "source": [
    "# Visualize demand functions\n",
    "env.reset(SEED)\n",
    "plt.figure(figsize=(12,4))\n",
    "plt.margins(0.02)\n",
    "plt.stem([len(env.demand()) for _ in range(NUM_EPISODES)], use_line_collection=True)\n",
    "plt.xlabel(\"Time step\")\n",
    "plt.ylabel(\"Demand\")"
   ]
  },
  {
   "cell_type": "code",
   "execution_count": 6,
   "metadata": {
    "ExecuteTime": {
     "end_time": "2020-03-16T20:46:31.640111Z",
     "start_time": "2020-03-16T20:46:31.608903Z"
    }
   },
   "outputs": [
    {
     "data": {
      "text/plain": [
       "array([0.19151945, 0.62210877, 0.43772774, 0.78535858, 0.77997581,\n",
       "       0.27259261, 0.27646426, 0.80187218, 0.95813935, 0.87593263])"
      ]
     },
     "execution_count": 6,
     "metadata": {},
     "output_type": "execute_result"
    }
   ],
   "source": [
    "# Delivery costs to each destination area\n",
    "env.warehouse.delivery_costs"
   ]
  },
  {
   "cell_type": "code",
   "execution_count": 7,
   "metadata": {
    "ExecuteTime": {
     "end_time": "2020-03-16T20:46:32.320546Z",
     "start_time": "2020-03-16T20:46:32.287670Z"
    },
    "scrolled": false
   },
   "outputs": [
    {
     "data": {
      "text/plain": [
       "array([69,  6, 27, 99, 81, 69, 48, 18, 22,  3,  8, 41, 57, 19, 59, 75,  0,\n",
       "       51, 70, 63, 81, 84, 94, 61, 41, 20, 21, 51, 34, 60, 59, 76,  9, 57,\n",
       "        1, 68, 26, 79, 86, 64, 23, 71, 41, 19, 37, 37, 81, 99, 93, 55, 57,\n",
       "       55, 73,  5, 19, 72, 19, 29, 80, 56, 91, 94, 66, 93, 45, 32, 68, 51,\n",
       "       53, 40, 57, 49, 44, -1, 78, 82, 14, 85, 84,  2,  2, 85, 29, 33, 59,\n",
       "       26, 80,  3, 88, 98, 30, 25, 53, 12, 19, 19, 28,  2, 78, 82])"
      ]
     },
     "execution_count": 7,
     "metadata": {},
     "output_type": "execute_result"
    }
   ],
   "source": [
    "# Sample action\n",
    "env.action_space.sample()"
   ]
  },
  {
   "cell_type": "code",
   "execution_count": 8,
   "metadata": {
    "ExecuteTime": {
     "end_time": "2020-03-16T20:46:33.506078Z",
     "start_time": "2020-03-16T20:46:33.234521Z"
    }
   },
   "outputs": [
    {
     "data": {
      "text/plain": [
       "Text(0, 0.5, 'Profit')"
      ]
     },
     "execution_count": 8,
     "metadata": {},
     "output_type": "execute_result"
    },
    {
     "data": {
      "image/png": "[encoded data removed]",
      "text/plain": [
       "<Figure size 864x288 with 1 Axes>"
      ]
     },
     "metadata": {},
     "output_type": "display_data"
    }
   ],
   "source": [
    "# Random action\n",
    "env.reset(SEED)\n",
    "done = False\n",
    "rewards = []\n",
    "while not done:\n",
    "    _, reward, done, info = env.step(env.action_space.sample())\n",
    "    rewards.append(reward)\n",
    "\n",
    "plt.figure(figsize=(12,4))\n",
    "plt.margins(0.02)\n",
    "plt.plot(rewards)\n",
    "plt.xlabel(\"Time step\")\n",
    "plt.ylabel(\"Profit\")"
   ]
  },
  {
   "cell_type": "code",
   "execution_count": 9,
   "metadata": {
    "ExecuteTime": {
     "end_time": "2020-03-16T20:46:47.954286Z",
     "start_time": "2020-03-16T20:46:47.700075Z"
    }
   },
   "outputs": [
    {
     "data": {
      "text/plain": [
       "Text(0, 0.5, 'Profit')"
      ]
     },
     "execution_count": 9,
     "metadata": {},
     "output_type": "execute_result"
    },
    {
     "data": {
      "image/png": "[encoded data removed]",
      "text/plain": [
       "<Figure size 864x288 with 1 Axes>"
      ]
     },
     "metadata": {},
     "output_type": "display_data"
    }
   ],
   "source": [
    "# First come first serve\n",
    "env.reset(SEED)\n",
    "done = False\n",
    "rewards = []\n",
    "while not done:\n",
    "    delivery = list(range(len(env.warehouse.inventory)))\n",
    "    _, reward, done, info = env.step(delivery)\n",
    "    rewards.append(reward)\n",
    "#     print(info['num_items_failed_to_deliver'])\n",
    "\n",
    "plt.figure(figsize=(12,4))\n",
    "plt.margins(0.02)\n",
    "plt.plot(rewards)\n",
    "plt.xlabel(\"Time step\")\n",
    "plt.ylabel(\"Profit\")"
   ]
  },
  {
   "cell_type": "code",
   "execution_count": null,
   "metadata": {},
   "outputs": [],
   "source": [
    "# TODO plot demands, delivery, penalty, etc. together\n"
   ]
  },
  {
   "cell_type": "markdown",
   "metadata": {},
   "source": [
    "# Simple Policy"
   ]
  },
  {
   "cell_type": "code",
   "execution_count": 10,
   "metadata": {
    "ExecuteTime": {
     "end_time": "2020-03-16T20:46:51.489914Z",
     "start_time": "2020-03-16T20:46:51.452410Z"
    }
   },
   "outputs": [],
   "source": [
    "class WaitAndDeliverPolicy:\n",
    "    def __init__(\n",
    "        self,\n",
    "        due,\n",
    "        capacity,\n",
    "        delivery_capacity,\n",
    "    ):\n",
    "        \"\"\"Wait to collect as many items as possible before delivery.\n",
    "        Deliver when there are due items or reached to delivery_capacity_limit\n",
    "        or capacity_limit.\n",
    "        \"\"\"\n",
    "        self.due = due\n",
    "        self.capacity = capacity\n",
    "        self.delivery_capacity = delivery_capacity\n",
    "\n",
    "    def action(self, state_df):\n",
    "        \"\"\"Check inventory, select items to deliver ():\n",
    "        \"\"\"\n",
    "        full_capacity = len(state_df)\n",
    "        \n",
    "        # remove empty\n",
    "        df = pd.DataFrame(state_df.loc[state_df['price'] > 0.0])\n",
    "        df['due-t'] = df['due'] - df['t']\n",
    "        \n",
    "        if len(df) > self.capacity:\n",
    "            pass  # Try to deliver all \n",
    "        else:\n",
    "            # deliver the items close to the due date and other items that have the same destinations.\n",
    "            due_items = df.loc[df['due-t'] < self.due]\n",
    "            areas = set(due_items['dest'].unique())\n",
    "            \n",
    "            # also, include areas where the delivery capacity is full\n",
    "            dest_cnt = df.groupby('dest').count()['t']\n",
    "            areas.update(dest_cnt.loc[dest_cnt > self.delivery_capacity].index)\n",
    "            \n",
    "            # select the items for those areas\n",
    "            df = df.loc[df['dest'].isin(areas)]\n",
    "        \n",
    "        return np.array(df.sort_values('due-t').index)\n"
   ]
  },
  {
   "cell_type": "code",
   "execution_count": 11,
   "metadata": {
    "ExecuteTime": {
     "end_time": "2020-03-16T20:46:52.443962Z",
     "start_time": "2020-03-16T20:46:52.415758Z"
    }
   },
   "outputs": [],
   "source": [
    "wd_policy = WaitAndDeliverPolicy(\n",
    "    due=1.0,\n",
    "    capacity=int(WAREHOUSE_CAPACITY * 0.8),\n",
    "    delivery_capacity=int(DELIVERY_CAPACITY * 0.8),\n",
    ")"
   ]
  },
  {
   "cell_type": "code",
   "execution_count": 12,
   "metadata": {
    "ExecuteTime": {
     "end_time": "2020-03-16T20:46:53.996432Z",
     "start_time": "2020-03-16T20:46:53.303217Z"
    }
   },
   "outputs": [
    {
     "data": {
      "text/plain": [
       "Text(0, 0.5, 'Profit')"
      ]
     },
     "execution_count": 12,
     "metadata": {},
     "output_type": "execute_result"
    },
    {
     "data": {
      "image/png": "[encoded data removed]",
      "text/plain": [
       "<Figure size 864x288 with 1 Axes>"
      ]
     },
     "metadata": {},
     "output_type": "display_data"
    }
   ],
   "source": [
    "env.reset(SEED)\n",
    "done = False\n",
    "rewards = []\n",
    "while not done:\n",
    "    action = wd_policy.action(env.render('df'))\n",
    "    _, reward, done, info = env.step(action)\n",
    "    rewards.append(reward)\n",
    "#     print(info['num_items_failed_to_deliver'])\n",
    "\n",
    "plt.figure(figsize=(12,4))\n",
    "plt.margins(0.02)\n",
    "plt.plot(rewards)\n",
    "plt.xlabel(\"Time step\")\n",
    "plt.ylabel(\"Profit\")"
   ]
  },
  {
   "cell_type": "markdown",
   "metadata": {},
   "source": [
    "# Optimizing the Policy Using Reinforcement Learning / RLlib"
   ]
  },
  {
   "cell_type": "code",
   "execution_count": 14,
   "metadata": {
    "ExecuteTime": {
     "end_time": "2020-03-16T20:50:14.802639Z",
     "start_time": "2020-03-16T20:50:06.675905Z"
    },
    "scrolled": true
   },
   "outputs": [
    {
     "name": "stderr",
     "output_type": "stream",
     "text": [
      "2020-03-16 16:50:07,468\tWARNING services.py:586 -- setpgrp failed, processes may not be cleaned up properly: [Errno 1] Operation not permitted.\n",
      "2020-03-16 16:50:07,470\tINFO resource_spec.py:212 -- Starting Ray with 3.96 GiB memory available for workers and up to 1.98 GiB for objects. You can adjust these settings with ray.init(memory=<bytes>, object_store_memory=<bytes>).\n",
      "2020-03-16 16:50:07,863\tINFO services.py:1078 -- View the Ray dashboard at \u001b[1m\u001b[32mlocalhost:8265\u001b[39m\u001b[22m\n",
      "/home/jumin/miniconda3/envs/relearn/lib/python3.7/site-packages/ray/rllib/utils/from_config.py:134: YAMLLoadWarning: calling yaml.load() without Loader=... is deprecated, as the default Loader is unsafe. Please read https://msg.pyyaml.org/load for full details.\n",
      "  obj = yaml.load(type_)\n",
      "2020-03-16 16:50:12,218\tWARNING util.py:37 -- Install gputil for GPU system monitoring.\n"
     ]
    },
    {
     "name": "stdout",
     "output_type": "stream",
     "text": [
      "\u001b[2m\u001b[36m(pid=7943)\u001b[0m /home/jumin/miniconda3/envs/relearn/lib/python3.7/site-packages/ray/rllib/utils/from_config.py:134: YAMLLoadWarning: calling yaml.load() without Loader=... is deprecated, as the default Loader is unsafe. Please read https://msg.pyyaml.org/load for full details.\n",
      "\u001b[2m\u001b[36m(pid=7943)\u001b[0m   obj = yaml.load(type_)\n",
      "\u001b[2m\u001b[36m(pid=7933)\u001b[0m /home/jumin/miniconda3/envs/relearn/lib/python3.7/site-packages/ray/rllib/utils/from_config.py:134: YAMLLoadWarning: calling yaml.load() without Loader=... is deprecated, as the default Loader is unsafe. Please read https://msg.pyyaml.org/load for full details.\n",
      "\u001b[2m\u001b[36m(pid=7933)\u001b[0m   obj = yaml.load(type_)\n"
     ]
    },
    {
     "ename": "RayTaskError(RayOutOfMemoryError)",
     "evalue": "\u001b[36mray::RolloutWorker\u001b[39m (pid=7943, ip=192.168.99.193)\n  File \"python/ray/_raylet.pyx\", line 438, in ray._raylet.execute_task\n  File \"/home/jumin/miniconda3/envs/relearn/lib/python3.7/site-packages/ray/memory_monitor.py\", line 122, in raise_if_low_memory\n    self.error_threshold))\nray.memory_monitor.RayOutOfMemoryError: More than 95% of the memory on node jumin-surface is used (14.79 / 15.56 GB). The top 10 memory consumers are:\n\nPID\tMEM\tCOMMAND\n1490\t0.87GiB\t/usr/bin/gnome-shell\n7509\t0.62GiB\t/home/jumin/miniconda3/envs/relearn/bin/python -m ipykernel_launcher -f /home/jumin/.local/share/jup\n3282\t0.4GiB\t/opt/google/chrome/chrome --type=renderer --disable-webrtc-apm-in-audio-service --field-trial-handle\n7933\t0.4GiB\tray::RolloutWorker\n7943\t0.4GiB\tray::RolloutWorker\n2612\t0.33GiB\t/opt/google/chrome/chrome\n3052\t0.32GiB\t/usr/lib/firefox/firefox -new-window\n2710\t0.29GiB\t/opt/google/chrome/chrome --type=renderer --disable-webrtc-apm-in-audio-service --field-trial-handle\n2213\t0.28GiB\t/usr/bin/gnome-shell\n3501\t0.28GiB\t/usr/lib/firefox/firefox -contentproc -childID 5 -isForBrowser -prefsLen 7683 -prefMapSize 211604 -p\n\nIn addition, up to 3.59 GiB of shared memory is currently being used by the Ray object store. You can set the object store size with the `object_store_memory` parameter when starting Ray, and the max Redis size with `redis_max_memory`. Note that Ray assumes all system memory is available for use by workers. If your system has other applications running, you should manually set these memory limits to a lower value.",
     "output_type": "error",
     "traceback": [
      "\u001b[0;31m---------------------------------------------------------------------------\u001b[0m",
      "\u001b[0;31mRayTaskError(RayOutOfMemoryError)\u001b[0m         Traceback (most recent call last)",
      "\u001b[0;32m<ipython-input-14-07e61f3ee264>\u001b[0m in \u001b[0;36m<module>\u001b[0;34m\u001b[0m\n\u001b[1;32m     36\u001b[0m \u001b[0mtrainer\u001b[0m \u001b[0;34m=\u001b[0m \u001b[0mppo\u001b[0m\u001b[0;34m.\u001b[0m\u001b[0mPPOTrainer\u001b[0m\u001b[0;34m(\u001b[0m\u001b[0mconfig\u001b[0m\u001b[0;34m=\u001b[0m\u001b[0mconfig\u001b[0m\u001b[0;34m,\u001b[0m \u001b[0menv\u001b[0m\u001b[0;34m=\u001b[0m\u001b[0mRayEnv\u001b[0m\u001b[0;34m)\u001b[0m\u001b[0;34m\u001b[0m\u001b[0;34m\u001b[0m\u001b[0m\n\u001b[1;32m     37\u001b[0m \u001b[0;32mfor\u001b[0m \u001b[0mi\u001b[0m \u001b[0;32min\u001b[0m \u001b[0mrange\u001b[0m\u001b[0;34m(\u001b[0m\u001b[0;36m2\u001b[0m\u001b[0;34m)\u001b[0m\u001b[0;34m:\u001b[0m\u001b[0;34m\u001b[0m\u001b[0;34m\u001b[0m\u001b[0m\n\u001b[0;32m---> 38\u001b[0;31m     \u001b[0mresult\u001b[0m \u001b[0;34m=\u001b[0m \u001b[0mtrainer\u001b[0m\u001b[0;34m.\u001b[0m\u001b[0mtrain\u001b[0m\u001b[0;34m(\u001b[0m\u001b[0;34m)\u001b[0m\u001b[0;34m\u001b[0m\u001b[0;34m\u001b[0m\u001b[0m\n\u001b[0m\u001b[1;32m     39\u001b[0m     \u001b[0mprint\u001b[0m\u001b[0;34m(\u001b[0m\u001b[0;34m\"result: {}\"\u001b[0m\u001b[0;34m.\u001b[0m\u001b[0mformat\u001b[0m\u001b[0;34m(\u001b[0m\u001b[0mresult\u001b[0m\u001b[0;34m)\u001b[0m\u001b[0;34m)\u001b[0m\u001b[0;34m\u001b[0m\u001b[0;34m\u001b[0m\u001b[0m\n\u001b[1;32m     40\u001b[0m \u001b[0;34m\u001b[0m\u001b[0m\n",
      "\u001b[0;32m~/miniconda3/envs/relearn/lib/python3.7/site-packages/ray/rllib/agents/trainer.py\u001b[0m in \u001b[0;36mtrain\u001b[0;34m(self)\u001b[0m\n\u001b[1;32m    492\u001b[0m                         \u001b[0;34m\"continue training without the failed worker, set \"\u001b[0m\u001b[0;34m\u001b[0m\u001b[0;34m\u001b[0m\u001b[0m\n\u001b[1;32m    493\u001b[0m                         \"`'ignore_worker_failures': True`.\")\n\u001b[0;32m--> 494\u001b[0;31m                     \u001b[0;32mraise\u001b[0m \u001b[0me\u001b[0m\u001b[0;34m\u001b[0m\u001b[0;34m\u001b[0m\u001b[0m\n\u001b[0m\u001b[1;32m    495\u001b[0m             \u001b[0;32mexcept\u001b[0m \u001b[0mException\u001b[0m \u001b[0;32mas\u001b[0m \u001b[0me\u001b[0m\u001b[0;34m:\u001b[0m\u001b[0;34m\u001b[0m\u001b[0;34m\u001b[0m\u001b[0m\n\u001b[1;32m    496\u001b[0m                 \u001b[0mtime\u001b[0m\u001b[0;34m.\u001b[0m\u001b[0msleep\u001b[0m\u001b[0;34m(\u001b[0m\u001b[0;36m0.5\u001b[0m\u001b[0;34m)\u001b[0m  \u001b[0;31m# allow logs messages to propagate\u001b[0m\u001b[0;34m\u001b[0m\u001b[0;34m\u001b[0m\u001b[0m\n",
      "\u001b[0;32m~/miniconda3/envs/relearn/lib/python3.7/site-packages/ray/rllib/agents/trainer.py\u001b[0m in \u001b[0;36mtrain\u001b[0;34m(self)\u001b[0m\n\u001b[1;32m    481\u001b[0m         \u001b[0;32mfor\u001b[0m \u001b[0m_\u001b[0m \u001b[0;32min\u001b[0m \u001b[0mrange\u001b[0m\u001b[0;34m(\u001b[0m\u001b[0;36m1\u001b[0m \u001b[0;34m+\u001b[0m \u001b[0mMAX_WORKER_FAILURE_RETRIES\u001b[0m\u001b[0;34m)\u001b[0m\u001b[0;34m:\u001b[0m\u001b[0;34m\u001b[0m\u001b[0;34m\u001b[0m\u001b[0m\n\u001b[1;32m    482\u001b[0m             \u001b[0;32mtry\u001b[0m\u001b[0;34m:\u001b[0m\u001b[0;34m\u001b[0m\u001b[0;34m\u001b[0m\u001b[0m\n\u001b[0;32m--> 483\u001b[0;31m                 \u001b[0mresult\u001b[0m \u001b[0;34m=\u001b[0m \u001b[0mTrainable\u001b[0m\u001b[0;34m.\u001b[0m\u001b[0mtrain\u001b[0m\u001b[0;34m(\u001b[0m\u001b[0mself\u001b[0m\u001b[0;34m)\u001b[0m\u001b[0;34m\u001b[0m\u001b[0;34m\u001b[0m\u001b[0m\n\u001b[0m\u001b[1;32m    484\u001b[0m             \u001b[0;32mexcept\u001b[0m \u001b[0mRayError\u001b[0m \u001b[0;32mas\u001b[0m \u001b[0me\u001b[0m\u001b[0;34m:\u001b[0m\u001b[0;34m\u001b[0m\u001b[0;34m\u001b[0m\u001b[0m\n\u001b[1;32m    485\u001b[0m                 \u001b[0;32mif\u001b[0m \u001b[0mself\u001b[0m\u001b[0;34m.\u001b[0m\u001b[0mconfig\u001b[0m\u001b[0;34m[\u001b[0m\u001b[0;34m\"ignore_worker_failures\"\u001b[0m\u001b[0;34m]\u001b[0m\u001b[0;34m:\u001b[0m\u001b[0;34m\u001b[0m\u001b[0;34m\u001b[0m\u001b[0m\n",
      "\u001b[0;32m~/miniconda3/envs/relearn/lib/python3.7/site-packages/ray/tune/trainable.py\u001b[0m in \u001b[0;36mtrain\u001b[0;34m(self)\u001b[0m\n\u001b[1;32m    252\u001b[0m         \"\"\"\n\u001b[1;32m    253\u001b[0m         \u001b[0mstart\u001b[0m \u001b[0;34m=\u001b[0m \u001b[0mtime\u001b[0m\u001b[0;34m.\u001b[0m\u001b[0mtime\u001b[0m\u001b[0;34m(\u001b[0m\u001b[0;34m)\u001b[0m\u001b[0;34m\u001b[0m\u001b[0;34m\u001b[0m\u001b[0m\n\u001b[0;32m--> 254\u001b[0;31m         \u001b[0mresult\u001b[0m \u001b[0;34m=\u001b[0m \u001b[0mself\u001b[0m\u001b[0;34m.\u001b[0m\u001b[0m_train\u001b[0m\u001b[0;34m(\u001b[0m\u001b[0;34m)\u001b[0m\u001b[0;34m\u001b[0m\u001b[0;34m\u001b[0m\u001b[0m\n\u001b[0m\u001b[1;32m    255\u001b[0m         \u001b[0;32massert\u001b[0m \u001b[0misinstance\u001b[0m\u001b[0;34m(\u001b[0m\u001b[0mresult\u001b[0m\u001b[0;34m,\u001b[0m \u001b[0mdict\u001b[0m\u001b[0;34m)\u001b[0m\u001b[0;34m,\u001b[0m \u001b[0;34m\"_train() needs to return a dict.\"\u001b[0m\u001b[0;34m\u001b[0m\u001b[0;34m\u001b[0m\u001b[0m\n\u001b[1;32m    256\u001b[0m \u001b[0;34m\u001b[0m\u001b[0m\n",
      "\u001b[0;32m~/miniconda3/envs/relearn/lib/python3.7/site-packages/ray/rllib/agents/trainer_template.py\u001b[0m in \u001b[0;36m_train\u001b[0;34m(self)\u001b[0m\n\u001b[1;32m    131\u001b[0m             \u001b[0mstart\u001b[0m \u001b[0;34m=\u001b[0m \u001b[0mtime\u001b[0m\u001b[0;34m.\u001b[0m\u001b[0mtime\u001b[0m\u001b[0;34m(\u001b[0m\u001b[0;34m)\u001b[0m\u001b[0;34m\u001b[0m\u001b[0;34m\u001b[0m\u001b[0m\n\u001b[1;32m    132\u001b[0m             \u001b[0;32mwhile\u001b[0m \u001b[0;32mTrue\u001b[0m\u001b[0;34m:\u001b[0m\u001b[0;34m\u001b[0m\u001b[0;34m\u001b[0m\u001b[0m\n\u001b[0;32m--> 133\u001b[0;31m                 \u001b[0mfetches\u001b[0m \u001b[0;34m=\u001b[0m \u001b[0mself\u001b[0m\u001b[0;34m.\u001b[0m\u001b[0moptimizer\u001b[0m\u001b[0;34m.\u001b[0m\u001b[0mstep\u001b[0m\u001b[0;34m(\u001b[0m\u001b[0;34m)\u001b[0m\u001b[0;34m\u001b[0m\u001b[0;34m\u001b[0m\u001b[0m\n\u001b[0m\u001b[1;32m    134\u001b[0m                 \u001b[0;32mif\u001b[0m \u001b[0mafter_optimizer_step\u001b[0m\u001b[0;34m:\u001b[0m\u001b[0;34m\u001b[0m\u001b[0;34m\u001b[0m\u001b[0m\n\u001b[1;32m    135\u001b[0m                     \u001b[0mafter_optimizer_step\u001b[0m\u001b[0;34m(\u001b[0m\u001b[0mself\u001b[0m\u001b[0;34m,\u001b[0m \u001b[0mfetches\u001b[0m\u001b[0;34m)\u001b[0m\u001b[0;34m\u001b[0m\u001b[0;34m\u001b[0m\u001b[0m\n",
      "\u001b[0;32m~/miniconda3/envs/relearn/lib/python3.7/site-packages/ray/rllib/optimizers/multi_gpu_optimizer.py\u001b[0m in \u001b[0;36mstep\u001b[0;34m(self)\u001b[0m\n\u001b[1;32m    135\u001b[0m                 samples = collect_samples(\n\u001b[1;32m    136\u001b[0m                     \u001b[0mself\u001b[0m\u001b[0;34m.\u001b[0m\u001b[0mworkers\u001b[0m\u001b[0;34m.\u001b[0m\u001b[0mremote_workers\u001b[0m\u001b[0;34m(\u001b[0m\u001b[0;34m)\u001b[0m\u001b[0;34m,\u001b[0m \u001b[0mself\u001b[0m\u001b[0;34m.\u001b[0m\u001b[0msample_batch_size\u001b[0m\u001b[0;34m,\u001b[0m\u001b[0;34m\u001b[0m\u001b[0;34m\u001b[0m\u001b[0m\n\u001b[0;32m--> 137\u001b[0;31m                     self.num_envs_per_worker, self.train_batch_size)\n\u001b[0m\u001b[1;32m    138\u001b[0m                 \u001b[0;32mif\u001b[0m \u001b[0msamples\u001b[0m\u001b[0;34m.\u001b[0m\u001b[0mcount\u001b[0m \u001b[0;34m>\u001b[0m \u001b[0mself\u001b[0m\u001b[0;34m.\u001b[0m\u001b[0mtrain_batch_size\u001b[0m \u001b[0;34m*\u001b[0m \u001b[0;36m2\u001b[0m\u001b[0;34m:\u001b[0m\u001b[0;34m\u001b[0m\u001b[0;34m\u001b[0m\u001b[0m\n\u001b[1;32m    139\u001b[0m                     logger.info(\n",
      "\u001b[0;32m~/miniconda3/envs/relearn/lib/python3.7/site-packages/ray/rllib/optimizers/rollout.py\u001b[0m in \u001b[0;36mcollect_samples\u001b[0;34m(agents, sample_batch_size, num_envs_per_worker, train_batch_size)\u001b[0m\n\u001b[1;32m     23\u001b[0m         \u001b[0;34m[\u001b[0m\u001b[0mfut_sample\u001b[0m\u001b[0;34m]\u001b[0m\u001b[0;34m,\u001b[0m \u001b[0m_\u001b[0m \u001b[0;34m=\u001b[0m \u001b[0mray\u001b[0m\u001b[0;34m.\u001b[0m\u001b[0mwait\u001b[0m\u001b[0;34m(\u001b[0m\u001b[0mlist\u001b[0m\u001b[0;34m(\u001b[0m\u001b[0magent_dict\u001b[0m\u001b[0;34m)\u001b[0m\u001b[0;34m)\u001b[0m\u001b[0;34m\u001b[0m\u001b[0;34m\u001b[0m\u001b[0m\n\u001b[1;32m     24\u001b[0m         \u001b[0magent\u001b[0m \u001b[0;34m=\u001b[0m \u001b[0magent_dict\u001b[0m\u001b[0;34m.\u001b[0m\u001b[0mpop\u001b[0m\u001b[0;34m(\u001b[0m\u001b[0mfut_sample\u001b[0m\u001b[0;34m)\u001b[0m\u001b[0;34m\u001b[0m\u001b[0;34m\u001b[0m\u001b[0m\n\u001b[0;32m---> 25\u001b[0;31m         \u001b[0mnext_sample\u001b[0m \u001b[0;34m=\u001b[0m \u001b[0mray_get_and_free\u001b[0m\u001b[0;34m(\u001b[0m\u001b[0mfut_sample\u001b[0m\u001b[0;34m)\u001b[0m\u001b[0;34m\u001b[0m\u001b[0;34m\u001b[0m\u001b[0m\n\u001b[0m\u001b[1;32m     26\u001b[0m         \u001b[0mnum_timesteps_so_far\u001b[0m \u001b[0;34m+=\u001b[0m \u001b[0mnext_sample\u001b[0m\u001b[0;34m.\u001b[0m\u001b[0mcount\u001b[0m\u001b[0;34m\u001b[0m\u001b[0;34m\u001b[0m\u001b[0m\n\u001b[1;32m     27\u001b[0m         \u001b[0mtrajectories\u001b[0m\u001b[0;34m.\u001b[0m\u001b[0mappend\u001b[0m\u001b[0;34m(\u001b[0m\u001b[0mnext_sample\u001b[0m\u001b[0;34m)\u001b[0m\u001b[0;34m\u001b[0m\u001b[0;34m\u001b[0m\u001b[0m\n",
      "\u001b[0;32m~/miniconda3/envs/relearn/lib/python3.7/site-packages/ray/rllib/utils/memory.py\u001b[0m in \u001b[0;36mray_get_and_free\u001b[0;34m(object_ids)\u001b[0m\n\u001b[1;32m     27\u001b[0m     \u001b[0;32mglobal\u001b[0m \u001b[0m_to_free\u001b[0m\u001b[0;34m\u001b[0m\u001b[0;34m\u001b[0m\u001b[0m\n\u001b[1;32m     28\u001b[0m \u001b[0;34m\u001b[0m\u001b[0m\n\u001b[0;32m---> 29\u001b[0;31m     \u001b[0mresult\u001b[0m \u001b[0;34m=\u001b[0m \u001b[0mray\u001b[0m\u001b[0;34m.\u001b[0m\u001b[0mget\u001b[0m\u001b[0;34m(\u001b[0m\u001b[0mobject_ids\u001b[0m\u001b[0;34m)\u001b[0m\u001b[0;34m\u001b[0m\u001b[0;34m\u001b[0m\u001b[0m\n\u001b[0m\u001b[1;32m     30\u001b[0m     \u001b[0;32mif\u001b[0m \u001b[0mtype\u001b[0m\u001b[0;34m(\u001b[0m\u001b[0mobject_ids\u001b[0m\u001b[0;34m)\u001b[0m \u001b[0;32mis\u001b[0m \u001b[0;32mnot\u001b[0m \u001b[0mlist\u001b[0m\u001b[0;34m:\u001b[0m\u001b[0;34m\u001b[0m\u001b[0;34m\u001b[0m\u001b[0m\n\u001b[1;32m     31\u001b[0m         \u001b[0mobject_ids\u001b[0m \u001b[0;34m=\u001b[0m \u001b[0;34m[\u001b[0m\u001b[0mobject_ids\u001b[0m\u001b[0;34m]\u001b[0m\u001b[0;34m\u001b[0m\u001b[0;34m\u001b[0m\u001b[0m\n",
      "\u001b[0;32m~/miniconda3/envs/relearn/lib/python3.7/site-packages/ray/worker.py\u001b[0m in \u001b[0;36mget\u001b[0;34m(object_ids, timeout)\u001b[0m\n\u001b[1;32m   1502\u001b[0m                     \u001b[0mworker\u001b[0m\u001b[0;34m.\u001b[0m\u001b[0mcore_worker\u001b[0m\u001b[0;34m.\u001b[0m\u001b[0mdump_object_store_memory_usage\u001b[0m\u001b[0;34m(\u001b[0m\u001b[0;34m)\u001b[0m\u001b[0;34m\u001b[0m\u001b[0;34m\u001b[0m\u001b[0m\n\u001b[1;32m   1503\u001b[0m                 \u001b[0;32mif\u001b[0m \u001b[0misinstance\u001b[0m\u001b[0;34m(\u001b[0m\u001b[0mvalue\u001b[0m\u001b[0;34m,\u001b[0m \u001b[0mRayTaskError\u001b[0m\u001b[0;34m)\u001b[0m\u001b[0;34m:\u001b[0m\u001b[0;34m\u001b[0m\u001b[0;34m\u001b[0m\u001b[0m\n\u001b[0;32m-> 1504\u001b[0;31m                     \u001b[0;32mraise\u001b[0m \u001b[0mvalue\u001b[0m\u001b[0;34m.\u001b[0m\u001b[0mas_instanceof_cause\u001b[0m\u001b[0;34m(\u001b[0m\u001b[0;34m)\u001b[0m\u001b[0;34m\u001b[0m\u001b[0;34m\u001b[0m\u001b[0m\n\u001b[0m\u001b[1;32m   1505\u001b[0m                 \u001b[0;32melse\u001b[0m\u001b[0;34m:\u001b[0m\u001b[0;34m\u001b[0m\u001b[0;34m\u001b[0m\u001b[0m\n\u001b[1;32m   1506\u001b[0m                     \u001b[0;32mraise\u001b[0m \u001b[0mvalue\u001b[0m\u001b[0;34m\u001b[0m\u001b[0;34m\u001b[0m\u001b[0m\n",
      "\u001b[0;31mRayTaskError(RayOutOfMemoryError)\u001b[0m: \u001b[36mray::RolloutWorker\u001b[39m (pid=7943, ip=192.168.99.193)\n  File \"python/ray/_raylet.pyx\", line 438, in ray._raylet.execute_task\n  File \"/home/jumin/miniconda3/envs/relearn/lib/python3.7/site-packages/ray/memory_monitor.py\", line 122, in raise_if_low_memory\n    self.error_threshold))\nray.memory_monitor.RayOutOfMemoryError: More than 95% of the memory on node jumin-surface is used (14.79 / 15.56 GB). The top 10 memory consumers are:\n\nPID\tMEM\tCOMMAND\n1490\t0.87GiB\t/usr/bin/gnome-shell\n7509\t0.62GiB\t/home/jumin/miniconda3/envs/relearn/bin/python -m ipykernel_launcher -f /home/jumin/.local/share/jup\n3282\t0.4GiB\t/opt/google/chrome/chrome --type=renderer --disable-webrtc-apm-in-audio-service --field-trial-handle\n7933\t0.4GiB\tray::RolloutWorker\n7943\t0.4GiB\tray::RolloutWorker\n2612\t0.33GiB\t/opt/google/chrome/chrome\n3052\t0.32GiB\t/usr/lib/firefox/firefox -new-window\n2710\t0.29GiB\t/opt/google/chrome/chrome --type=renderer --disable-webrtc-apm-in-audio-service --field-trial-handle\n2213\t0.28GiB\t/usr/bin/gnome-shell\n3501\t0.28GiB\t/usr/lib/firefox/firefox -contentproc -childID 5 -isForBrowser -prefsLen 7683 -prefMapSize 211604 -p\n\nIn addition, up to 3.59 GiB of shared memory is currently being used by the Ray object store. You can set the object store size with the `object_store_memory` parameter when starting Ray, and the max Redis size with `redis_max_memory`. Note that Ray assumes all system memory is available for use by workers. If your system has other applications running, you should manually set these memory limits to a lower value."
     ]
    }
   ],
   "source": [
    "import numpy as np\n",
    "import gym\n",
    "from gym.spaces import Box\n",
    "\n",
    "import ray\n",
    "from ray import tune\n",
    "from ray.rllib.utils import try_import_tf\n",
    "    \n",
    "import ray.rllib.agents.ppo as ppo\n",
    "from ray.tune.logger import pretty_print\n",
    "\n",
    "tf = try_import_tf()\n",
    "\n",
    "# gym environment adapter for ray\n",
    "class RayEnv(gym.Env):\n",
    "    def __init__(self, config):\n",
    "        self.env = config[\"env\"]\n",
    "        self.action_space = self.env.action_space\n",
    "        self.observation_space = self.env.observation_space\n",
    "\n",
    "    def reset(self):\n",
    "        return self.env.reset()\n",
    "\n",
    "    def step(self, action):\n",
    "        return self.env.step(action)\n",
    "\n",
    "ray.shutdown()\n",
    "ray.init()\n",
    "\n",
    "config = {}\n",
    "config[\"env_config\"] = {\"env\": env}\n",
    "\n",
    "trainer = ppo.PPOTrainer(config=config, env=RayEnv)\n",
    "for i in range(2):\n",
    "    result = trainer.train()\n",
    "    print(\"result: {}\".format(result))\n",
    "\n",
    "# def train_ddpg():\n",
    "#     config = ddpg.DEFAULT_CONFIG.copy()\n",
    "#     config[\"log_level\"] = \"WARN\"\n",
    "#     config[\"actor_hiddens\"] = [512, 512] \n",
    "#     config[\"critic_hiddens\"] = [512, 512]\n",
    "#     config[\"gamma\"] = 0.95\n",
    "#     config[\"timesteps_per_iteration\"] = 1000\n",
    "#     config[\"target_network_update_freq\"] = 5\n",
    "#     config[\"buffer_size\"] = 10000\n",
    "#     config[\"env_config\"] = {\"env\": env}\n",
    "# #     config[\"num_gpus\"] = 0\n",
    "# #     config[\"num_workers\"] = 1\n",
    "# #     config[\"eager\"] = False\n",
    "    \n",
    "#     trainer = ddpg.DDPGTrainer(config=config, env=RayEnv)\n",
    "    "
   ]
  },
  {
   "cell_type": "code",
   "execution_count": null,
   "metadata": {
    "ExecuteTime": {
     "end_time": "2020-03-16T20:27:11.010438Z",
     "start_time": "2020-03-16T20:27:10.947279Z"
    }
   },
   "outputs": [],
   "source": [
    "env.action_space"
   ]
  },
  {
   "cell_type": "code",
   "execution_count": null,
   "metadata": {
    "ExecuteTime": {
     "end_time": "2020-03-16T20:27:25.184125Z",
     "start_time": "2020-03-16T20:27:25.139479Z"
    }
   },
   "outputs": [],
   "source": [
    "env.observation_space"
   ]
  },
  {
   "cell_type": "markdown",
   "metadata": {},
   "source": [
    "# Analysis and Debugging of the Policy Produced by RLlib"
   ]
  },
  {
   "cell_type": "code",
   "execution_count": null,
   "metadata": {},
   "outputs": [],
   "source": [
    "import json\n",
    "\n",
    "def load_policy():\n",
    "    log_dir = \".../ray_results/DDPG_SimpleSupplyChain_2020-01-23_20-51-479cn5z0i0\" # this path needs to be set manually\n",
    "    checkpoint_id = \"200\"\n",
    "    with open(f\"{log_dir}/params.json\", \"r\") as read_file:\n",
    "        config = json.load(read_file)\n",
    "    trainer = ddpg.DDPGTrainer(config=config, env=SimpleSupplyChain)\n",
    "    trainer.restore(f\"{log_dir}/checkpoint_{checkpoint_id}/checkpoint-{checkpoint_id}\")\n",
    "    return trainer.get_policy()\n",
    "\n",
    "policy = load_policy()\n",
    "\n",
    "# tracing the policy\n",
    "env = SupplyChainEnvironment()\n",
    "state = env.initial_state()\n",
    "transitions_rl = []\n",
    "for t in range(env.T):\n",
    "    action = policy.compute_single_action( state.to_array() , state=[] ) \n",
    "    action_obj = Action(env.warehouse_num)\n",
    "    action_obj.production_level = action[0][0]\n",
    "    action_obj.shippings_to_warehouses = action[0][1:]\n",
    "    state, reward, _ = env.step(state, action_obj)\n",
    "    transitions_rl.append([state, action_obj, reward])"
   ]
  },
  {
   "cell_type": "code",
   "execution_count": null,
   "metadata": {},
   "outputs": [],
   "source": [
    "# tracing the policy\n",
    "visualize_transitions(np.array(transitions_rl))"
   ]
  },
  {
   "cell_type": "code",
   "execution_count": null,
   "metadata": {},
   "outputs": [],
   "source": []
  },
  {
   "cell_type": "code",
   "execution_count": null,
   "metadata": {},
   "outputs": [],
   "source": [
    "# Using Ray's tune. \n",
    "import ray\n",
    "from ray import tune\n",
    "\n",
    "ray.init()\n",
    "tune.run(\n",
    "    \"PPO\",\n",
    "    stop={\"episode_reward_mean\": 200},\n",
    "    config={\n",
    "        \"env\": \"CartPole-v0\",\n",
    "        \"num_gpus\": 0,\n",
    "        \"num_workers\": 1,\n",
    "        \"lr\": tune.grid_search([0.01, 0.001, 0.0001]),\n",
    "        \"eager\": False,\n",
    "    },\n",
    ")\n"
   ]
  }
 ],
 "metadata": {
  "kernelspec": {
   "display_name": "Python 3",
   "language": "python",
   "name": "python3"
  },
  "language_info": {
   "codemirror_mode": {
    "name": "ipython",
    "version": 3
   },
   "file_extension": ".py",
   "mimetype": "text/x-python",
   "name": "python",
   "nbconvert_exporter": "python",
   "pygments_lexer": "ipython3",
   "version": "3.7.6"
  }
 },
 "nbformat": 4,
 "nbformat_minor": 4
}
