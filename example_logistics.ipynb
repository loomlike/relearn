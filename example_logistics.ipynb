{
 "cells": [
  {
   "cell_type": "markdown",
   "metadata": {},
   "source": [
    "# Logistics Optimization"
   ]
  },
  {
   "cell_type": "code",
   "execution_count": 16,
   "metadata": {
    "ExecuteTime": {
     "end_time": "2020-03-10T15:09:24.481269Z",
     "start_time": "2020-03-10T15:09:24.171984Z"
    }
   },
   "outputs": [],
   "source": [
    "%reload_ext autoreload\n",
    "%autoreload 2\n",
    "%reload_ext blackcellmagic\n",
    "%matplotlib inline"
   ]
  },
  {
   "cell_type": "code",
   "execution_count": 17,
   "metadata": {
    "ExecuteTime": {
     "end_time": "2020-03-10T15:15:54.008426Z",
     "start_time": "2020-03-10T15:15:53.919859Z"
    }
   },
   "outputs": [],
   "source": [
    "import collections\n",
    "import json\n",
    "\n",
    "import math \n",
    "import matplotlib.pyplot as plt\n",
    "import numpy as np\n",
    "import pandas as pd\n",
    "import seaborn as sns\n",
    "sns.set()\n",
    "\n",
    "from relearn.env import SimpleLogistics, Warehouse"
   ]
  },
  {
   "cell_type": "markdown",
   "metadata": {},
   "source": [
    "# Logistics Provider Environment\n",
    "\n",
    "Every day, items are dispatched from sellers to the distribution center. Our logistics provider delivers some of items to their final destinations.\n",
    "\n",
    "To make the problem simpler, we made following assumptions:\n",
    "- We consider only one logistics provider with a single distribution center.\n",
    "- If inventory is full, new items cannot be dispatched.\n",
    "- There is late delivery penalty.\n",
    "- Items of the same destination are grouped and shipped together.\n",
    "\n",
    "> TODOs:\n",
    "In this first draft, the environment doesn't consider the route-optimization and use the route list (the costs between the distribution center and the destinations).\n",
    "As the next step, the list should be extended to a matrix denoting the route costs (distance and traffic) between all the two points. The agent's action.item_delivery will be the ordered list where the position of the items are the delivery order.\n",
    "\n",
    "Limitations:\n",
    "* No limit for the number of items per delivery --> TODO should implement delivery capacity to make the problem non-trivial\n",
    "* No penalty for rejected items during dispatch\n",
    "* Static delivery fee"
   ]
  },
  {
   "cell_type": "code",
   "execution_count": 62,
   "metadata": {},
   "outputs": [],
   "source": [
    "NUM_EPISODES = 100\n",
    "NUM_LOCATIONS = 10\n",
    "WAREHOUSE_CAPACITY = 100\n",
    "\n",
    "SEED = 1234"
   ]
  },
  {
   "cell_type": "code",
   "execution_count": 66,
   "metadata": {
    "ExecuteTime": {
     "end_time": "2020-03-09T16:27:26.310168Z",
     "start_time": "2020-03-09T16:27:26.266671Z"
    },
    "scrolled": true
   },
   "outputs": [
    {
     "name": "stderr",
     "output_type": "stream",
     "text": [
      "/home/jumin/miniconda3/envs/relearn/lib/python3.7/site-packages/gym/logger.py:30: UserWarning: \u001b[33mWARN: Box bound precision lowered by casting to float32\u001b[0m\n",
      "  warnings.warn(colorize('%s: %s'%('WARN', msg % args), 'yellow'))\n"
     ]
    },
    {
     "data": {
      "text/html": [
       "<div>\n",
       "<style scoped>\n",
       "    .dataframe tbody tr th:only-of-type {\n",
       "        vertical-align: middle;\n",
       "    }\n",
       "\n",
       "    .dataframe tbody tr th {\n",
       "        vertical-align: top;\n",
       "    }\n",
       "\n",
       "    .dataframe thead th {\n",
       "        text-align: right;\n",
       "    }\n",
       "</style>\n",
       "<table border=\"1\" class=\"dataframe\">\n",
       "  <thead>\n",
       "    <tr style=\"text-align: right;\">\n",
       "      <th></th>\n",
       "      <th>time</th>\n",
       "      <th>dest</th>\n",
       "      <th>due</th>\n",
       "      <th>price</th>\n",
       "      <th>penalty</th>\n",
       "    </tr>\n",
       "  </thead>\n",
       "  <tbody>\n",
       "    <tr>\n",
       "      <th>0</th>\n",
       "      <td>0.0</td>\n",
       "      <td>7.0</td>\n",
       "      <td>2.0</td>\n",
       "      <td>0.5</td>\n",
       "      <td>0.25</td>\n",
       "    </tr>\n",
       "    <tr>\n",
       "      <th>1</th>\n",
       "      <td>0.0</td>\n",
       "      <td>0.0</td>\n",
       "      <td>2.0</td>\n",
       "      <td>0.5</td>\n",
       "      <td>0.25</td>\n",
       "    </tr>\n",
       "    <tr>\n",
       "      <th>2</th>\n",
       "      <td>0.0</td>\n",
       "      <td>9.0</td>\n",
       "      <td>2.0</td>\n",
       "      <td>0.5</td>\n",
       "      <td>0.25</td>\n",
       "    </tr>\n",
       "    <tr>\n",
       "      <th>3</th>\n",
       "      <td>0.0</td>\n",
       "      <td>1.0</td>\n",
       "      <td>2.0</td>\n",
       "      <td>0.5</td>\n",
       "      <td>0.25</td>\n",
       "    </tr>\n",
       "    <tr>\n",
       "      <th>4</th>\n",
       "      <td>0.0</td>\n",
       "      <td>5.0</td>\n",
       "      <td>2.0</td>\n",
       "      <td>0.5</td>\n",
       "      <td>0.25</td>\n",
       "    </tr>\n",
       "    <tr>\n",
       "      <th>...</th>\n",
       "      <td>...</td>\n",
       "      <td>...</td>\n",
       "      <td>...</td>\n",
       "      <td>...</td>\n",
       "      <td>...</td>\n",
       "    </tr>\n",
       "    <tr>\n",
       "      <th>95</th>\n",
       "      <td>0.0</td>\n",
       "      <td>0.0</td>\n",
       "      <td>0.0</td>\n",
       "      <td>0.0</td>\n",
       "      <td>0.00</td>\n",
       "    </tr>\n",
       "    <tr>\n",
       "      <th>96</th>\n",
       "      <td>0.0</td>\n",
       "      <td>0.0</td>\n",
       "      <td>0.0</td>\n",
       "      <td>0.0</td>\n",
       "      <td>0.00</td>\n",
       "    </tr>\n",
       "    <tr>\n",
       "      <th>97</th>\n",
       "      <td>0.0</td>\n",
       "      <td>0.0</td>\n",
       "      <td>0.0</td>\n",
       "      <td>0.0</td>\n",
       "      <td>0.00</td>\n",
       "    </tr>\n",
       "    <tr>\n",
       "      <th>98</th>\n",
       "      <td>0.0</td>\n",
       "      <td>0.0</td>\n",
       "      <td>0.0</td>\n",
       "      <td>0.0</td>\n",
       "      <td>0.00</td>\n",
       "    </tr>\n",
       "    <tr>\n",
       "      <th>99</th>\n",
       "      <td>0.0</td>\n",
       "      <td>0.0</td>\n",
       "      <td>0.0</td>\n",
       "      <td>0.0</td>\n",
       "      <td>0.00</td>\n",
       "    </tr>\n",
       "  </tbody>\n",
       "</table>\n",
       "<p>100 rows × 5 columns</p>\n",
       "</div>"
      ],
      "text/plain": [
       "    time  dest  due  price  penalty\n",
       "0    0.0   7.0  2.0    0.5     0.25\n",
       "1    0.0   0.0  2.0    0.5     0.25\n",
       "2    0.0   9.0  2.0    0.5     0.25\n",
       "3    0.0   1.0  2.0    0.5     0.25\n",
       "4    0.0   5.0  2.0    0.5     0.25\n",
       "..   ...   ...  ...    ...      ...\n",
       "95   0.0   0.0  0.0    0.0     0.00\n",
       "96   0.0   0.0  0.0    0.0     0.00\n",
       "97   0.0   0.0  0.0    0.0     0.00\n",
       "98   0.0   0.0  0.0    0.0     0.00\n",
       "99   0.0   0.0  0.0    0.0     0.00\n",
       "\n",
       "[100 rows x 5 columns]"
      ]
     },
     "execution_count": 66,
     "metadata": {},
     "output_type": "execute_result"
    }
   ],
   "source": [
    "env = SimpleLogistics(\n",
    "    T=NUM_EPISODES,\n",
    "    capacity=WAREHOUSE_CAPACITY,\n",
    "    num_locations=NUM_LOCATIONS,\n",
    "    seed=SEED,\n",
    ")\n",
    "env.render()"
   ]
  },
  {
   "cell_type": "code",
   "execution_count": 67,
   "metadata": {},
   "outputs": [
    {
     "data": {
      "text/plain": [
       "Text(0, 0.5, 'Demand')"
      ]
     },
     "execution_count": 67,
     "metadata": {},
     "output_type": "execute_result"
    },
    {
     "data": {
      "image/png": "[encoded data removed]",
      "text/plain": [
       "<Figure size 864x288 with 1 Axes>"
      ]
     },
     "metadata": {},
     "output_type": "display_data"
    }
   ],
   "source": [
    "# Visualize demand functions\n",
    "env.reset(SEED)\n",
    "plt.figure(figsize=(12,4))\n",
    "plt.margins(0.02)\n",
    "plt.stem([len(env.demand()) for _ in range(NUM_EPISODES)], use_line_collection=True)\n",
    "plt.xlabel(\"Time step\")\n",
    "plt.ylabel(\"Demand\")"
   ]
  },
  {
   "cell_type": "code",
   "execution_count": 74,
   "metadata": {},
   "outputs": [
    {
     "data": {
      "text/plain": [
       "array([0.19151945, 0.62210877, 0.43772774, 0.78535858, 0.77997581,\n",
       "       0.27259261, 0.27646426, 0.80187218, 0.95813935, 0.87593263])"
      ]
     },
     "execution_count": 74,
     "metadata": {},
     "output_type": "execute_result"
    }
   ],
   "source": [
    "env.warehouse.delivery_map"
   ]
  },
  {
   "cell_type": "code",
   "execution_count": 79,
   "metadata": {},
   "outputs": [
    {
     "data": {
      "text/plain": [
       "array([1, 1, 1, 1, 0, 0, 1, 0, 0, 1, 1, 0, 0, 1, 1, 1, 1, 1, 0, 1, 1, 0,\n",
       "       1, 0, 1, 0, 1, 1, 0, 1, 0, 0, 0, 1, 1, 0, 1, 0, 0, 1, 1, 1, 0, 0,\n",
       "       0, 1, 0, 0, 1, 0, 0, 0, 0, 0, 1, 1, 1, 1, 1, 1, 1, 0, 1, 0, 0, 0,\n",
       "       0, 0, 1, 0, 0, 1, 1, 0, 1, 0, 0, 0, 1, 1, 1, 0, 0, 0, 0, 1, 0, 1,\n",
       "       1, 1, 0, 1, 0, 0, 0, 0, 0, 0, 1, 1], dtype=int8)"
      ]
     },
     "execution_count": 79,
     "metadata": {},
     "output_type": "execute_result"
    }
   ],
   "source": [
    "# Sample action\n",
    "env.action_space.sample()"
   ]
  },
  {
   "cell_type": "code",
   "execution_count": 80,
   "metadata": {},
   "outputs": [
    {
     "data": {
      "text/plain": [
       "Text(0, 0.5, 'Profit')"
      ]
     },
     "execution_count": 80,
     "metadata": {},
     "output_type": "execute_result"
    },
    {
     "data": {
      "image/png": "[encoded data removed]",
      "text/plain": [
       "<Figure size 864x288 with 1 Axes>"
      ]
     },
     "metadata": {},
     "output_type": "display_data"
    }
   ],
   "source": [
    "# Random action\n",
    "env.reset(SEED)\n",
    "done = False\n",
    "rewards = []\n",
    "while not done:\n",
    "    _, reward, done, info = env.step(env.action_space.sample())\n",
    "    rewards.append(reward)\n",
    "\n",
    "plt.figure(figsize=(12,4))\n",
    "plt.margins(0.02)\n",
    "plt.plot(rewards)\n",
    "plt.xlabel(\"Time step\")\n",
    "plt.ylabel(\"Profit\")"
   ]
  },
  {
   "cell_type": "code",
   "execution_count": 87,
   "metadata": {},
   "outputs": [
    {
     "data": {
      "text/plain": [
       "Text(0, 0.5, 'Profit')"
      ]
     },
     "execution_count": 87,
     "metadata": {},
     "output_type": "execute_result"
    },
    {
     "data": {
      "image/png": "[encoded data removed]",
      "text/plain": [
       "<Figure size 864x288 with 1 Axes>"
      ]
     },
     "metadata": {},
     "output_type": "display_data"
    }
   ],
   "source": [
    "# First come first serve\n",
    "env.reset(SEED)\n",
    "done = False\n",
    "rewards = []\n",
    "while not done:\n",
    "    _, reward, done, info = env.step([1]*len(env.warehouse.inventory))\n",
    "    rewards.append(reward)\n",
    "\n",
    "plt.figure(figsize=(12,4))\n",
    "plt.margins(0.02)\n",
    "plt.plot(rewards)\n",
    "plt.xlabel(\"Time step\")\n",
    "plt.ylabel(\"Profit\")"
   ]
  },
  {
   "cell_type": "code",
   "execution_count": null,
   "metadata": {},
   "outputs": [],
   "source": []
  },
  {
   "cell_type": "code",
   "execution_count": 88,
   "metadata": {},
   "outputs": [],
   "source": [
    "env.close()"
   ]
  },
  {
   "cell_type": "code",
   "execution_count": null,
   "metadata": {},
   "outputs": [],
   "source": [
    "# TODO seed for reproducibility\n",
    "# TODO plot demands, delivery, penalty, etc. together\n"
   ]
  },
  {
   "cell_type": "markdown",
   "metadata": {},
   "source": [
    "# Baseline Policy"
   ]
  },
  {
   "cell_type": "code",
   "execution_count": null,
   "metadata": {},
   "outputs": [],
   "source": [
    "# We use (s, Q)-policy as a baseline \n",
    "# The policy is: Order your Economic Order Quantity Q, every time your inventory \n",
    "# position drops below s (Reorder Point or Safety Stock).\n",
    "\n",
    "class SQPolicy(object):\n",
    "    def __init__(self, factory_safety_stock, factory_reorder_amount, safety_stock, reorder_amount):\n",
    "        self.factory_safety_stock = factory_safety_stock\n",
    "        self.factory_reorder_amount = factory_reorder_amount\n",
    "        self.safety_stock = safety_stock\n",
    "        self.reorder_amount = reorder_amount\n",
    "\n",
    "    def select_action(self, state):\n",
    "        action = Action(state.warehouse_num)\n",
    "        for w in range(state.warehouse_num):\n",
    "            if state.warehouse_stock[w] < self.safety_stock[w]:\n",
    "                action.shippings_to_warehouses[w] = self.reorder_amount[w]\n",
    "    \n",
    "        if state.factory_stock - np.sum(action.shippings_to_warehouses) < self.factory_safety_stock: \n",
    "            action.production_level = self.factory_reorder_amount\n",
    "        else: \n",
    "            action.production_level = 0\n",
    "        return action\n",
    "    \n",
    "def simulate_episode(env, policy):\n",
    "    state = env.initial_state()\n",
    "    transitions = []\n",
    "    for t in range(env.T):\n",
    "        action = policy.select_action(state)\n",
    "        state, reward, _ = env.step(state, action)\n",
    "        transitions.append([state, action, reward])\n",
    "    return transitions\n",
    "\n",
    "# basic policy evaluation process \n",
    "def simulate(env, policy, num_episodes):\n",
    "    returns_trace = []\n",
    "    for episode in range(num_episodes):\n",
    "        env.reset()\n",
    "        returns_trace.append( sum(np.array(simulate_episode(env, policy)).T[2]) )\n",
    "    return returns_trace"
   ]
  },
  {
   "cell_type": "markdown",
   "metadata": {},
   "source": [
    "### Optimizing (s, Q)-policy parameters using Facebook Ax"
   ]
  },
  {
   "cell_type": "code",
   "execution_count": null,
   "metadata": {},
   "outputs": [],
   "source": [
    "from ax import optimize\n",
    "\n",
    "def func(p):\n",
    "    policy = SQPolicy(\n",
    "        p['factory_s'], \n",
    "        p['factory_Q'],\n",
    "        [ p['w1_s'], p['w2_s'], p['w3_s'], ],\n",
    "        [ p['w1_Q'], p['w2_Q'], p['w3_Q'], ]\n",
    "    )\n",
    "    return np.mean(simulate(env, policy, num_episodes = 30))\n",
    "\n",
    "best_parameters, best_values, experiment, model = optimize(\n",
    "        parameters=[\n",
    "          { \"name\": \"factory_s\",   \"type\": \"range\",  \"bounds\": [0.0, 30.0], },\n",
    "          { \"name\": \"factory_Q\",   \"type\": \"range\",  \"bounds\": [0.0, 30.0], },\n",
    "          { \"name\": \"w1_s\",        \"type\": \"range\",  \"bounds\": [0.0, 20.0], },\n",
    "          { \"name\": \"w1_Q\",        \"type\": \"range\",  \"bounds\": [0.0, 20.0], },  \n",
    "          { \"name\": \"w2_s\",        \"type\": \"range\",  \"bounds\": [0.0, 20.0], },\n",
    "          { \"name\": \"w2_Q\",        \"type\": \"range\",  \"bounds\": [0.0, 20.0], },    \n",
    "          { \"name\": \"w3_s\",        \"type\": \"range\",  \"bounds\": [0.0, 20.0], },\n",
    "          { \"name\": \"w3_Q\",        \"type\": \"range\",  \"bounds\": [0.0, 20.0], },    \n",
    "        ],\n",
    "        evaluation_function=func,\n",
    "        minimize=False,\n",
    "        total_trials=200,\n",
    "    )"
   ]
  },
  {
   "cell_type": "code",
   "execution_count": null,
   "metadata": {},
   "outputs": [],
   "source": [
    "display(best_parameters)\n",
    "display(best_values)"
   ]
  },
  {
   "cell_type": "code",
   "execution_count": null,
   "metadata": {},
   "outputs": [],
   "source": [
    "# evaluating the winning (s,Q) policy more accurately\n",
    "env = SupplyChainEnvironment()\n",
    "policy_sQ = SQPolicy(0.0, 20.0, [5, 5, 5], [5, 5, 10])\n",
    "return_trace = simulate(env, policy_sQ, num_episodes = 100)\n",
    "plt.figure(figsize=(16, 4))\n",
    "plt.plot(range(len(return_trace)), return_trace)\n",
    "print(f\"Reward: mean {np.mean(return_trace)}, standard deviation {np.std(return_trace)}\")"
   ]
  },
  {
   "cell_type": "code",
   "execution_count": null,
   "metadata": {},
   "outputs": [],
   "source": [
    "# tracing the winning (s,Q)  policy\n",
    "env = SupplyChainEnvironment()\n",
    "transitions_sQ = simulate_episode(env, policy_sQ)\n",
    "visualize_transitions(np.array(transitions_sQ))"
   ]
  },
  {
   "cell_type": "markdown",
   "metadata": {},
   "source": [
    "### Optimization of (s, Q)-policy parameters using brute force search"
   ]
  },
  {
   "cell_type": "code",
   "execution_count": null,
   "metadata": {},
   "outputs": [],
   "source": [
    "from sklearn.model_selection import ParameterGrid\n",
    "\n",
    "p_grid1 = [5, 10, 20]\n",
    "p_grid2 = [5, 10, 20]\n",
    "param_grid = {\n",
    "    'factory_s': p_grid1, \n",
    "    'factory_Q': p_grid1,\n",
    "    'w1_s': p_grid2,\n",
    "    'w2_s': p_grid2,\n",
    "    'w3_s': p_grid2,\n",
    "    'w1_Q': p_grid2,\n",
    "    'w2_Q': p_grid2,\n",
    "    'w3_Q': p_grid2,\n",
    "    }\n",
    "\n",
    "env = SupplyChainEnvironment()\n",
    "grid = ParameterGrid(param_grid)\n",
    "i = 0\n",
    "best_return = float('-inf')\n",
    "for p in grid:\n",
    "    policy = SQPolicy(\n",
    "        p['factory_s'], p['factory_Q'],\n",
    "        [ p['w1_s'], p['w2_s'], p['w3_s'], ],\n",
    "        [ p['w1_Q'], p['w2_Q'], p['w3_Q'], ]\n",
    "    )\n",
    "    m_return = np.mean(simulate(env, policy, num_episodes = 10))\n",
    "    if m_return > best_return:\n",
    "        best_return = m_return\n",
    "        best_params = p\n",
    "\n",
    "    if i % 100 == 0:\n",
    "        print(f\"Configuration #{i} -- {best_return}\")\n",
    "    i += 1"
   ]
  },
  {
   "cell_type": "markdown",
   "metadata": {},
   "source": [
    "# Optimizing the Policy Using Reinforcement Learning / RLlib"
   ]
  },
  {
   "cell_type": "code",
   "execution_count": null,
   "metadata": {
    "scrolled": true
   },
   "outputs": [],
   "source": [
    "import numpy as np\n",
    "import gym\n",
    "from gym.spaces import Box\n",
    "\n",
    "import ray\n",
    "from ray import tune\n",
    "from ray.rllib.utils import try_import_tf\n",
    "\n",
    "import ray.rllib.agents.ddpg as ddpg\n",
    "from ray.tune.logger import pretty_print\n",
    "\n",
    "tf = try_import_tf()\n",
    "\n",
    "# gym environment adapter\n",
    "class SimpleSupplyChain(gym.Env):\n",
    "    def __init__(self, config):\n",
    "        self.reset()\n",
    "        self.action_space = Box(low=0.0, high=20.0, shape=(self.supply_chain.warehouse_num + 1, ), dtype=np.int16)\n",
    "        self.observation_space = Box(-10000, 10000, shape=(len(self.supply_chain.initial_state().to_array()), ), dtype=np.float32)\n",
    "\n",
    "    def reset(self):\n",
    "        self.supply_chain = SupplyChainEnvironment()\n",
    "        self.state = self.supply_chain.initial_state()\n",
    "        return self.state.to_array()\n",
    "\n",
    "    def step(self, action):\n",
    "        action_obj = Action(self.supply_chain.warehouse_num)\n",
    "        action_obj.production_level = action[0]\n",
    "        action_obj.shippings_to_warehouses = action[1:]\n",
    "        self.state, reward, done = self.supply_chain.step(self.state, action_obj)\n",
    "        return self.state.to_array(), reward, done, {}\n",
    "    \n",
    "ray.shutdown()\n",
    "ray.init()\n",
    "\n",
    "def train_ddpg():\n",
    "    config = ddpg.DEFAULT_CONFIG.copy()\n",
    "    config[\"log_level\"] = \"WARN\"\n",
    "    config[\"actor_hiddens\"] = [512, 512] \n",
    "    config[\"critic_hiddens\"] = [512, 512]\n",
    "    config[\"gamma\"] = 0.95\n",
    "    config[\"timesteps_per_iteration\"] = 1000\n",
    "    config[\"target_network_update_freq\"] = 5\n",
    "    config[\"buffer_size\"] = 10000\n",
    "    \n",
    "    trainer = ddpg.DDPGTrainer(config=config, env=SimpleSupplyChain)\n",
    "    for i in range(200):\n",
    "        result = trainer.train()\n",
    "        print(pretty_print(result))\n",
    "        checkpoint = trainer.save()\n",
    "        print(\"Checkpoint saved at\", checkpoint)\n",
    "\n",
    "train_ddpg()"
   ]
  },
  {
   "cell_type": "markdown",
   "metadata": {},
   "source": [
    "# Analysis and Debugging of the Policy Produced by RLlib"
   ]
  },
  {
   "cell_type": "code",
   "execution_count": null,
   "metadata": {},
   "outputs": [],
   "source": [
    "import json\n",
    "\n",
    "def load_policy():\n",
    "    log_dir = \".../ray_results/DDPG_SimpleSupplyChain_2020-01-23_20-51-479cn5z0i0\" # this path needs to be set manually\n",
    "    checkpoint_id = \"200\"\n",
    "    with open(f\"{log_dir}/params.json\", \"r\") as read_file:\n",
    "        config = json.load(read_file)\n",
    "    trainer = ddpg.DDPGTrainer(config=config, env=SimpleSupplyChain)\n",
    "    trainer.restore(f\"{log_dir}/checkpoint_{checkpoint_id}/checkpoint-{checkpoint_id}\")\n",
    "    return trainer.get_policy()\n",
    "\n",
    "policy = load_policy()\n",
    "\n",
    "# tracing the policy\n",
    "env = SupplyChainEnvironment()\n",
    "state = env.initial_state()\n",
    "transitions_rl = []\n",
    "for t in range(env.T):\n",
    "    action = policy.compute_single_action( state.to_array() , state=[] ) \n",
    "    action_obj = Action(env.warehouse_num)\n",
    "    action_obj.production_level = action[0][0]\n",
    "    action_obj.shippings_to_warehouses = action[0][1:]\n",
    "    state, reward, _ = env.step(state, action_obj)\n",
    "    transitions_rl.append([state, action_obj, reward])"
   ]
  },
  {
   "cell_type": "code",
   "execution_count": null,
   "metadata": {},
   "outputs": [],
   "source": [
    "# tracing the policy\n",
    "visualize_transitions(np.array(transitions_rl))"
   ]
  }
 ],
 "metadata": {
  "kernelspec": {
   "display_name": "Python 3",
   "language": "python",
   "name": "python3"
  },
  "language_info": {
   "codemirror_mode": {
    "name": "ipython",
    "version": 3
   },
   "file_extension": ".py",
   "mimetype": "text/x-python",
   "name": "python",
   "nbconvert_exporter": "python",
   "pygments_lexer": "ipython3",
   "version": "3.7.6"
  }
 },
 "nbformat": 4,
 "nbformat_minor": 4
}
